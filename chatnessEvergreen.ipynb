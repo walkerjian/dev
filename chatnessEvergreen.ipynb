{
  "nbformat": 4,
  "nbformat_minor": 0,
  "metadata": {
    "colab": {
      "provenance": [],
      "mount_file_id": "1Tjg7HVjr5sIfdXaFfDqdg_w5AeXblvcu",
      "authorship_tag": "ABX9TyOXn0YD2znDVDKhTNh9WfJ+",
      "include_colab_link": true
    },
    "kernelspec": {
      "name": "python3",
      "display_name": "Python 3"
    },
    "language_info": {
      "name": "python"
    }
  },
  "cells": [
    {
      "cell_type": "markdown",
      "metadata": {
        "id": "view-in-github",
        "colab_type": "text"
      },
      "source": [
        "<a href=\"https://colab.research.google.com/github/walkerjian/dev/blob/main/chatnessEvergreen.ipynb\" target=\"_parent\"><img src=\"https://colab.research.google.com/assets/colab-badge.svg\" alt=\"Open In Colab\"/></a>"
      ]
    },
    {
      "cell_type": "code",
      "source": [
        "!pip install httpx==0.27.2 --force-reinstall"
      ],
      "metadata": {
        "collapsed": true,
        "id": "BTxGRmrosx0j"
      },
      "execution_count": null,
      "outputs": []
    },
    {
      "cell_type": "code",
      "source": [
        "from google.colab import userdata\n",
        "mykey=userdata.get('OPENAI_API_KEY')\n",
        "print(mykey)"
      ],
      "metadata": {
        "collapsed": true,
        "id": "ZxGX3-yWq9KQ"
      },
      "execution_count": null,
      "outputs": []
    },
    {
      "cell_type": "code",
      "execution_count": null,
      "metadata": {
        "id": "PhPlxMlckdQ9"
      },
      "outputs": [],
      "source": [
        "import os\n",
        "import json\n",
        "from openai import OpenAI\n",
        "from google.colab import auth\n",
        "\n",
        "# Authenticate user\n",
        "auth.authenticate_user()\n",
        "\n",
        "client = OpenAI(\n",
        "    api_key=mykey  # Replace with your API key\n",
        ")\n",
        "def load_conversation(file_path):\n",
        "    \"\"\"Load conversation history from a file.\"\"\"\n",
        "    if os.path.exists(file_path):\n",
        "        with open(file_path, \"r\") as file:\n",
        "            try:\n",
        "                print(\"Loading conversation from file...\")\n",
        "                print(file_path)\n",
        "                return json.load(file)\n",
        "            except json.JSONDecodeError:\n",
        "                print(\"Conversation file is corrupted. Starting fresh.\")\n",
        "    return [{\"role\": \"system\", \"content\": \"You are a helpful assistant.\"}]\n",
        "\n",
        "def save_conversation(file_path, messages):\n",
        "    \"\"\"Save conversation history to a file.\"\"\"\n",
        "    with open(file_path, \"w\") as file:\n",
        "        json.dump(messages, file, indent=4)\n",
        "\n",
        "def continue_chat(messages, user_input, model=\"gpt-4\"):\n",
        "    \"\"\"Continue the chat by sending the conversation context and the new user input.\"\"\"\n",
        "    messages.append({\"role\": \"user\", \"content\": user_input})\n",
        "    try:\n",
        "        # Create a chat completion\n",
        "        chat_completion = client.chat.completions.create(\n",
        "            messages=messages,\n",
        "            model=model,\n",
        "        )\n",
        "        # Extract the assistant's response\n",
        "        assistant_reply = chat_completion.choices[0].message.content\n",
        "        print(f\"\\nAssistant: {assistant_reply}\\n\")\n",
        "        # Append the assistant's reply to the conversation history\n",
        "        messages.append({\"role\": \"assistant\", \"content\": assistant_reply})\n",
        "        return messages\n",
        "    except Exception as e:\n",
        "        print(f\"An error occurred: {e}\")\n",
        "        return messages\n"
      ]
    },
    {
      "cell_type": "code",
      "source": [
        "# File for conversation history\n",
        "filename = input(\"Enter the name of an existing conversation file to continue (or press Enter to start new): \").strip()\n",
        "\n",
        "if filename and os.path.exists(filename):\n",
        "    print(f\"Loading conversation from {filename}...\")\n",
        "    conversation = load_conversation(filename)\n",
        "else:\n",
        "    if filename:\n",
        "        print(f\"File '{filename}' not found. Starting a new conversation.\")\n",
        "    conversation = [{\"role\": \"system\", \"content\": \"You are a helpful assistant.\"}]\n",
        "    filename = input(\"Enter a filename to save this new conversation: \").strip()\n"
      ],
      "metadata": {
        "id": "ECONtCRclA08"
      },
      "execution_count": null,
      "outputs": []
    },
    {
      "cell_type": "markdown",
      "source": [
        "Just copy and paste this cell to continue the chat!"
      ],
      "metadata": {
        "id": "aXoac2eO4_2u"
      }
    },
    {
      "cell_type": "code",
      "source": [
        "# Get user input\n",
        "user_message = input(\"You: \")\n",
        "\n",
        "# Continue the conversation\n",
        "conversation = continue_chat(conversation, user_message)"
      ],
      "metadata": {
        "id": "D_2QZY0_u9Gy"
      },
      "execution_count": null,
      "outputs": []
    }
  ]
}