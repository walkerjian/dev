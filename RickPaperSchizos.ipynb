{
  "nbformat": 4,
  "nbformat_minor": 0,
  "metadata": {
    "colab": {
      "provenance": [],
      "authorship_tag": "ABX9TyPRmAz6zngLQTTkCbe2mRyL",
      "include_colab_link": true
    },
    "kernelspec": {
      "name": "python3",
      "display_name": "Python 3"
    },
    "language_info": {
      "name": "python"
    }
  },
  "cells": [
    {
      "cell_type": "markdown",
      "metadata": {
        "id": "view-in-github",
        "colab_type": "text"
      },
      "source": [
        "<a href=\"https://colab.research.google.com/github/walkerjian/dev/blob/main/RickPaperSchizos.ipynb\" target=\"_parent\"><img src=\"https://colab.research.google.com/assets/colab-badge.svg\" alt=\"Open In Colab\"/></a>"
      ]
    },
    {
      "cell_type": "code",
      "execution_count": 1,
      "metadata": {
        "colab": {
          "base_uri": "https://localhost:8080/"
        },
        "id": "jahy22fTPtAh",
        "outputId": "704391b5-deb2-4706-fccb-4fa82114c443"
      },
      "outputs": [
        {
          "output_type": "stream",
          "name": "stdout",
          "text": [
            "Welcome to Rick Paper Schizos!\n",
            "Choose 'Rick', 'Paper', or 'Schizos'. Type 'exit' to end the game.\n",
            "\n",
            "Your choice: Rick\n",
            "Computer chose: Rick\n",
            "Rickrolled!\n",
            "Your total score: 0\n",
            "\n",
            "Your choice: Paper\n",
            "Computer chose: Schizos\n",
            "Your brains are eaten by the computer!\n",
            "Your total score: 0\n",
            "\n",
            "Your choice: Schizos\n",
            "Computer chose: Rick\n",
            "Computer wins with Rick. You lose 10 points.\n",
            "Your total score: -10\n",
            "\n",
            "Your choice: Paper\n",
            "Computer chose: Schizos\n",
            "Your brains are eaten by the computer!\n",
            "Your total score: -10\n",
            "\n",
            "Your choice: Paper\n",
            "Computer chose: Rick\n",
            "You win with Paper! You gain 5 points.\n",
            "Your total score: -5\n",
            "\n",
            "Your choice: Paper\n",
            "Computer chose: Rick\n",
            "You win with Paper! You gain 5 points.\n",
            "Your total score: 0\n",
            "\n",
            "Your choice: Paper\n",
            "Computer chose: Paper\n",
            "No points awarded.\n",
            "Your total score: 0\n",
            "\n",
            "Your choice: Paper\n",
            "Computer chose: Schizos\n",
            "Your brains are eaten by the computer!\n",
            "Your total score: 0\n",
            "\n",
            "Your choice: exit\n",
            "Thanks for playing!\n"
          ]
        }
      ],
      "source": [
        "import random\n",
        "\n",
        "def determine_winner(player_choice, computer_choice):\n",
        "    outcome = \"\"\n",
        "    player_score = 0\n",
        "\n",
        "    if player_choice == computer_choice:\n",
        "        if player_choice == \"Rick\":\n",
        "            outcome = \"Rickrolled!\"\n",
        "        elif player_choice == \"Paper\":\n",
        "            outcome = \"No points awarded.\"\n",
        "        else:\n",
        "            outcome = \"Your brains are eaten by a zombie!\"\n",
        "    else:\n",
        "        if player_choice == \"Rick\":\n",
        "            if computer_choice == \"Paper\":\n",
        "                player_score -= 5\n",
        "                outcome = \"Computer wins with Paper. You lose 5 points.\"\n",
        "            else:\n",
        "                player_score += 10\n",
        "                outcome = \"You win with Rick! You gain 10 points.\"\n",
        "        elif player_choice == \"Paper\":\n",
        "            if computer_choice == \"Schizos\":\n",
        "                outcome = \"Your brains are eaten by the computer!\"\n",
        "            else:\n",
        "                player_score += 5\n",
        "                outcome = \"You win with Paper! You gain 5 points.\"\n",
        "        else:\n",
        "            if computer_choice == \"Rick\":\n",
        "                player_score -= 10\n",
        "                outcome = \"Computer wins with Rick. You lose 10 points.\"\n",
        "            else:\n",
        "                player_score += 20\n",
        "                outcome = \"You win with Schizos! You gain 20 points.\"\n",
        "\n",
        "    return player_score, outcome\n",
        "\n",
        "def play_game():\n",
        "    total_score = 0\n",
        "\n",
        "    print(\"Welcome to Rick Paper Schizos!\")\n",
        "    print(\"Choose 'Rick', 'Paper', or 'Schizos'. Type 'exit' to end the game.\\n\")\n",
        "\n",
        "    while True:\n",
        "        player_choice = input(\"Your choice: \").capitalize()\n",
        "\n",
        "        if player_choice == \"Exit\":\n",
        "            break\n",
        "\n",
        "        if player_choice not in [\"Rick\", \"Paper\", \"Schizos\"]:\n",
        "            print(\"Invalid choice. Please choose 'Rick', 'Paper', or 'Schizos'.\\n\")\n",
        "            continue\n",
        "\n",
        "        computer_choice = random.choice([\"Rick\", \"Paper\", \"Schizos\"])\n",
        "        print(f\"Computer chose: {computer_choice}\")\n",
        "\n",
        "        score, outcome = determine_winner(player_choice, computer_choice)\n",
        "        total_score += score\n",
        "\n",
        "        print(outcome)\n",
        "        print(f\"Your total score: {total_score}\\n\")\n",
        "\n",
        "    print(\"Thanks for playing!\")\n",
        "\n",
        "play_game()\n"
      ]
    }
  ]
}