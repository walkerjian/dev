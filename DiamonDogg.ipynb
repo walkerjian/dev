{
  "nbformat": 4,
  "nbformat_minor": 0,
  "metadata": {
    "colab": {
      "provenance": [],
      "authorship_tag": "ABX9TyMqk881G5QR5JtCwyboE87W",
      "include_colab_link": true
    },
    "kernelspec": {
      "name": "python3",
      "display_name": "Python 3"
    },
    "language_info": {
      "name": "python"
    }
  },
  "cells": [
    {
      "cell_type": "markdown",
      "metadata": {
        "id": "view-in-github",
        "colab_type": "text"
      },
      "source": [
        "<a href=\"https://colab.research.google.com/github/walkerjian/dev/blob/main/DiamonDogg.ipynb\" target=\"_parent\"><img src=\"https://colab.research.google.com/assets/colab-badge.svg\" alt=\"Open In Colab\"/></a>"
      ]
    },
    {
      "cell_type": "code",
      "execution_count": 1,
      "metadata": {
        "colab": {
          "base_uri": "https://localhost:8080/"
        },
        "id": "8jwr3R2xQzdX",
        "outputId": "abb9dfe1-d09d-4108-ab65-b6df34370fd5"
      },
      "outputs": [
        {
          "output_type": "stream",
          "name": "stdout",
          "text": [
            "         * \n",
            "        * * \n",
            "       * * * \n",
            "      * * * * \n",
            "     * * * * * \n",
            "    * * * * * * \n",
            "   * * * * * * * \n",
            "  * * * * * * * * \n",
            " * * * * * * * * * \n",
            "* * * * * * * * * * \n",
            " * * * * * * * * * \n",
            "  * * * * * * * * \n",
            "   * * * * * * * \n",
            "    * * * * * * \n",
            "     * * * * * \n",
            "      * * * * \n",
            "       * * * \n",
            "        * * \n",
            "         * \n"
          ]
        }
      ],
      "source": [
        "n = 10  # number of rows\n",
        "\n",
        "for i in range(n):\n",
        "    print(\" \" * (n-i-1) + \"* \" * (i+1))\n",
        "for i in range(n-2, -1, -1):\n",
        "    print(\" \" * (n-i-1) + \"* \" * (i+1))\n"
      ]
    },
    {
      "cell_type": "code",
      "source": [
        "def print_diamond(rows):\n",
        "    for i in range(rows):\n",
        "        print(' ' * (rows - i - 1) + '*' * (2 * i + 1))\n",
        "    for i in range(rows - 2, -1, -1):\n",
        "        print(' ' * (rows - i - 1) + '*' * (2 * i + 1))\n",
        "\n",
        "print_diamond(10)  # Replace 10 with any number to change the size of the diamond\n"
      ],
      "metadata": {
        "colab": {
          "base_uri": "https://localhost:8080/"
        },
        "id": "nDcUboNqRGfl",
        "outputId": "a19ea467-cb42-4140-ff7d-f986e91ded51"
      },
      "execution_count": 2,
      "outputs": [
        {
          "output_type": "stream",
          "name": "stdout",
          "text": [
            "         *\n",
            "        ***\n",
            "       *****\n",
            "      *******\n",
            "     *********\n",
            "    ***********\n",
            "   *************\n",
            "  ***************\n",
            " *****************\n",
            "*******************\n",
            " *****************\n",
            "  ***************\n",
            "   *************\n",
            "    ***********\n",
            "     *********\n",
            "      *******\n",
            "       *****\n",
            "        ***\n",
            "         *\n"
          ]
        }
      ]
    }
  ]
}