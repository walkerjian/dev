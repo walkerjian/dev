{
  "nbformat": 4,
  "nbformat_minor": 0,
  "metadata": {
    "colab": {
      "provenance": [],
      "authorship_tag": "ABX9TyNwvHZcRUjky75vFnhX8CjR",
      "include_colab_link": true
    },
    "kernelspec": {
      "name": "python3",
      "display_name": "Python 3"
    },
    "language_info": {
      "name": "python"
    }
  },
  "cells": [
    {
      "cell_type": "markdown",
      "metadata": {
        "id": "view-in-github",
        "colab_type": "text"
      },
      "source": [
        "<a href=\"https://colab.research.google.com/github/walkerjian/dev/blob/main/sedonions.ipynb\" target=\"_parent\"><img src=\"https://colab.research.google.com/assets/colab-badge.svg\" alt=\"Open In Colab\"/></a>"
      ]
    },
    {
      "cell_type": "code",
      "execution_count": 1,
      "metadata": {
        "colab": {
          "base_uri": "https://localhost:8080/"
        },
        "id": "vP03LheUr-3I",
        "outputId": "61515ba1-b45c-4c0b-ee9e-fbf41efd6455"
      },
      "outputs": [
        {
          "output_type": "stream",
          "name": "stdout",
          "text": [
            "Test: Complex Addition\n",
            "Result: 8 + 2e1\n",
            "----------------------------------------\n",
            "Test: Quaternion Multiplication\n",
            "Result: -9 + 5e1 + -17e2 + 5e3\n",
            "----------------------------------------\n",
            "Test: Octonion Subtraction\n",
            "Result: -7 + -5e1 + -3e2 + -1e3 + 1e4 + 3e5 + 5e6 + 7e7\n",
            "----------------------------------------\n",
            "Test: Sedenion Division\n",
            "Result: -1.0\n",
            "----------------------------------------\n"
          ]
        }
      ],
      "source": [
        "class GeneralizedNumberExtended:\n",
        "    \"\"\"Represent and operate on generalized numbers up to sedenions.\"\"\"\n",
        "\n",
        "    def __init__(self, *coefficients):\n",
        "        self.coefficients = coefficients\n",
        "\n",
        "    def conjugate(self):\n",
        "        \"\"\"Compute the conjugate of the generalized number.\"\"\"\n",
        "        n = len(self.coefficients)\n",
        "        if n == 1:\n",
        "            return self\n",
        "        half_n = n // 2\n",
        "        real_part = self.coefficients[:half_n]\n",
        "        imaginary_part = self.coefficients[half_n:]\n",
        "        conj_real_part = [real_part[0]] + [-x for x in real_part[1:]]\n",
        "        conj_imaginary_part = [-x for x in imaginary_part]\n",
        "        return GeneralizedNumberExtended(*(conj_real_part + conj_imaginary_part))\n",
        "\n",
        "    def norm_squared(self):\n",
        "        \"\"\"Compute the norm squared of the generalized number.\"\"\"\n",
        "        return sum(x * x for x in self.coefficients)\n",
        "\n",
        "    def __add__(self, other):\n",
        "        \"\"\"Addition of generalized numbers.\"\"\"\n",
        "        return GeneralizedNumberExtended(*[a + b for a, b in zip(self.coefficients, other.coefficients)])\n",
        "\n",
        "    def __sub__(self, other):\n",
        "        \"\"\"Subtraction of generalized numbers.\"\"\"\n",
        "        return GeneralizedNumberExtended(*[a - b for a, b in zip(self.coefficients, other.coefficients)])\n",
        "\n",
        "    def __mul__(self, other):\n",
        "        \"\"\"Multiplication of generalized numbers.\"\"\"\n",
        "        n = len(self.coefficients)\n",
        "        if n <= 2:\n",
        "            result = [0] * n\n",
        "            for i in range(n):\n",
        "                for j in range(n):\n",
        "                    s = (-1 if (i == 1 and j == 1) else 1)\n",
        "                    result[(i + j) % n] += s * self.coefficients[i] * other.coefficients[j]\n",
        "            return GeneralizedNumberExtended(*result)\n",
        "        half_n = n // 2\n",
        "        a = GeneralizedNumberExtended(*self.coefficients[:half_n])\n",
        "        b = GeneralizedNumberExtended(*self.coefficients[half_n:])\n",
        "        c = GeneralizedNumberExtended(*other.coefficients[:half_n])\n",
        "        d = GeneralizedNumberExtended(*other.coefficients[half_n:])\n",
        "        return GeneralizedNumberExtended(*(a * c - d.conjugate() * b).coefficients +\n",
        "                                         (d * a + b * c.conjugate()).coefficients)\n",
        "\n",
        "    def __truediv__(self, other):\n",
        "        \"\"\"Division of generalized numbers.\"\"\"\n",
        "        norm_squared = other.norm_squared()\n",
        "        if norm_squared == 0:\n",
        "            raise ValueError(\"Cannot divide by zero.\")\n",
        "        conjugate = other.conjugate()\n",
        "        result = self * conjugate\n",
        "        return GeneralizedNumberExtended(*[x / norm_squared for x in result.coefficients])\n",
        "\n",
        "    def __repr__(self):\n",
        "        \"\"\"String representation of the generalized number.\"\"\"\n",
        "        terms = [\"\"] + [f\"e{i}\" for i in range(1, len(self.coefficients))]\n",
        "        return \" + \".join(f\"{coeff}{term}\" for coeff, term in zip(self.coefficients, terms) if coeff != 0)\n",
        "\n",
        "# View\n",
        "def display_test_result(test_name, result):\n",
        "    \"\"\"Display the results of a test.\"\"\"\n",
        "    print(f\"Test: {test_name}\")\n",
        "    print(f\"Result: {result}\")\n",
        "    print(\"-\" * 40)\n",
        "\n",
        "# Controller\n",
        "def test_controller():\n",
        "    \"\"\"Run a series of tests on the GeneralizedNumberExtended class.\"\"\"\n",
        "\n",
        "    # Test: Complex number addition\n",
        "    c1 = GeneralizedNumberExtended(3, 4)\n",
        "    c2 = GeneralizedNumberExtended(5, -2)\n",
        "    result = c1 + c2\n",
        "    display_test_result(\"Complex Addition\", result)\n",
        "\n",
        "    # Test: Quaternion multiplication\n",
        "    q1 = GeneralizedNumberExtended(1, 2, 3, 4)\n",
        "    q2 = GeneralizedNumberExtended(-1, -2, 0, 3)\n",
        "    result = q1 * q2\n",
        "    display_test_result(\"Quaternion Multiplication\", result)\n",
        "\n",
        "    # Test: Octonion subtraction\n",
        "    o1 = GeneralizedNumberExtended(1, 2, 3, 4, 5, 6, 7, 8)\n",
        "    o2 = GeneralizedNumberExtended(8, 7, 6, 5, 4, 3, 2, 1)\n",
        "    result = o1 - o2\n",
        "    display_test_result(\"Octonion Subtraction\", result)\n",
        "\n",
        "    # Test: Sedenion division\n",
        "    s1 = GeneralizedNumberExtended(1, 2, 3, 4, 5, 6, 7, 8, 9, 10, 11, 12, 13, 14, 15, 16)\n",
        "    s2 = GeneralizedNumberExtended(-1, -2, -3, -4, -5, -6, -7, -8, -9, -10, -11, -12, -13, -14, -15, -16)\n",
        "    result = s1 / s2\n",
        "    display_test_result(\"Sedenion Division\", result)\n",
        "\n",
        "# Running the tests\n",
        "test_controller()\n"
      ]
    }
  ]
}