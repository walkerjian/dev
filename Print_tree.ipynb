{
  "nbformat": 4,
  "nbformat_minor": 0,
  "metadata": {
    "colab": {
      "provenance": [],
      "authorship_tag": "ABX9TyMlY24I7e4LAlLdq3Et8QtF",
      "include_colab_link": true
    },
    "kernelspec": {
      "name": "python3",
      "display_name": "Python 3"
    },
    "language_info": {
      "name": "python"
    }
  },
  "cells": [
    {
      "cell_type": "markdown",
      "metadata": {
        "id": "view-in-github",
        "colab_type": "text"
      },
      "source": [
        "<a href=\"https://colab.research.google.com/github/walkerjian/dev/blob/main/Print_tree.ipynb\" target=\"_parent\"><img src=\"https://colab.research.google.com/assets/colab-badge.svg\" alt=\"Open In Colab\"/></a>"
      ]
    },
    {
      "cell_type": "code",
      "source": [
        "class TreeNode:\n",
        "    def __init__(self, val=0, left=None, right=None):\n",
        "        self.val = val\n",
        "        self.left = left\n",
        "        self.right = right"
      ],
      "metadata": {
        "id": "dNAmkm-RTkeV"
      },
      "execution_count": 3,
      "outputs": []
    },
    {
      "cell_type": "code",
      "execution_count": 6,
      "metadata": {
        "id": "Cc1agY9YTLRm"
      },
      "outputs": [],
      "source": [
        "def print_tree_ascii(root):\n",
        "    \"\"\"\n",
        "    Print the binary tree in ASCII art format.\n",
        "\n",
        "    Args:\n",
        "        root (TreeNode): The root node of the binary tree.\n",
        "    \"\"\"\n",
        "\n",
        "    def get_ascii_tree(node, prefix='', is_left=True):\n",
        "        if node is None:\n",
        "            return []\n",
        "\n",
        "        ascii_tree = []\n",
        "        line = prefix + '├── ' if is_left else prefix + '└── '\n",
        "        ascii_tree.append(line + str(node.val))\n",
        "\n",
        "        if node.left or node.right:\n",
        "            if node.left:\n",
        "                ascii_tree.extend(get_ascii_tree(node.left, prefix + '│   ', is_left=True))\n",
        "            else:\n",
        "                ascii_tree.append(prefix + '│')\n",
        "\n",
        "            if node.right:\n",
        "                ascii_tree.extend(get_ascii_tree(node.right, prefix + '    ', is_left=False))\n",
        "            else:\n",
        "                ascii_tree.append(prefix + '│')\n",
        "\n",
        "        return ascii_tree\n",
        "\n",
        "    ascii_tree = get_ascii_tree(root)\n",
        "    for line in ascii_tree:\n",
        "        print(line)"
      ]
    },
    {
      "cell_type": "code",
      "source": [
        "# Tree:\n",
        "#      1\n",
        "#     / \\\n",
        "#    2   3\n",
        "#   / \\\n",
        "#  4   5\n",
        "root = TreeNode(1)\n",
        "root.left = TreeNode(2)\n",
        "root.right = TreeNode(3)\n",
        "root.left.left = TreeNode(4)\n",
        "root.left.right = TreeNode(5)\n",
        "\n",
        "# Print the tree in ASCII art format vertically\n",
        "print(\"ASCII Art (Vertical):\")\n",
        "print_tree_ascii(root)"
      ],
      "metadata": {
        "colab": {
          "base_uri": "https://localhost:8080/"
        },
        "id": "76DnYS3lTWSi",
        "outputId": "ded3b130-47a8-4b03-aef7-b310947c9ceb"
      },
      "execution_count": 7,
      "outputs": [
        {
          "output_type": "stream",
          "name": "stdout",
          "text": [
            "ASCII Art (Vertical):\n",
            "├── 1\n",
            "│   ├── 2\n",
            "│   │   ├── 4\n",
            "│       └── 5\n",
            "    └── 3\n"
          ]
        }
      ]
    },
    {
      "cell_type": "code",
      "source": [
        "def print_tree_ascii(root, orientation='up'):\n",
        "    \"\"\"\n",
        "    Print the binary tree in ASCII art format with the specified orientation.\n",
        "\n",
        "    Args:\n",
        "        root (TreeNode): The root node of the binary tree.\n",
        "        orientation (str): The orientation of the tree when printing. Can be one of 'up', 'down', 'left', or 'right'.\n",
        "                           Default is 'up'.\n",
        "    \"\"\"\n",
        "\n",
        "    def get_ascii_tree(node, prefix='', is_left=True):\n",
        "        if node is None:\n",
        "            return []\n",
        "\n",
        "        ascii_tree = []\n",
        "        line = prefix + '└── ' if is_left else prefix + '├── '\n",
        "        ascii_tree.append(line + str(node.val))\n",
        "\n",
        "        if node.left or node.right:\n",
        "            if node.right:\n",
        "                ascii_tree.extend(get_ascii_tree(node.right, prefix + '    ', is_left=False))\n",
        "            else:\n",
        "                ascii_tree.append(prefix + '│')\n",
        "\n",
        "            if node.left:\n",
        "                ascii_tree.extend(get_ascii_tree(node.left, prefix + '│   ', is_left=True))\n",
        "            else:\n",
        "                ascii_tree.append(prefix + '│')\n",
        "\n",
        "        return ascii_tree\n",
        "\n",
        "    ascii_tree = get_ascii_tree(root)\n",
        "    if orientation == 'up':\n",
        "        for line in reversed(ascii_tree):\n",
        "            print(line)\n",
        "    elif orientation == 'down':\n",
        "        for line in ascii_tree:\n",
        "            print(line)\n",
        "    elif orientation == 'left':\n",
        "        for line in ascii_tree:\n",
        "            print(line.rjust(len(line) + len(line) // 2))\n",
        "    elif orientation == 'right':\n",
        "        for line in ascii_tree:\n",
        "            print(line.ljust(len(line) + len(line) // 2))\n",
        "    else:\n",
        "        print(\"Invalid orientation specified. Please choose one of 'up', 'down', 'left', or 'right'.\")"
      ],
      "metadata": {
        "id": "wUCjwah8UXFX"
      },
      "execution_count": 8,
      "outputs": []
    },
    {
      "cell_type": "code",
      "source": [
        "# Tree:\n",
        "#      1\n",
        "#     / \\\n",
        "#    2   3\n",
        "#   / \\\n",
        "#  4   5\n",
        "root = TreeNode(1)\n",
        "root.left = TreeNode(2)\n",
        "root.right = TreeNode(3)\n",
        "root.left.left = TreeNode(4)\n",
        "root.left.right = TreeNode(5)\n",
        "\n",
        "# Print the tree in ASCII art format with different orientations\n",
        "print(\"ASCII Art (Orientation: Up):\")\n",
        "print_tree_ascii(root, orientation='up')\n",
        "\n",
        "print()\n",
        "\n",
        "print(\"ASCII Art (Orientation: Down):\")\n",
        "print_tree_ascii(root, orientation='down')\n",
        "\n",
        "print()\n",
        "\n",
        "print(\"ASCII Art (Orientation: Left):\")\n",
        "print_tree_ascii(root, orientation='left')\n",
        "\n",
        "print()\n",
        "\n",
        "print(\"ASCII Art (Orientation: Right):\")\n",
        "print_tree_ascii(root, orientation='right')"
      ],
      "metadata": {
        "colab": {
          "base_uri": "https://localhost:8080/"
        },
        "id": "pTtISsQuUb1B",
        "outputId": "ae38a65e-634c-4c68-b3b3-e807cc65c9ed"
      },
      "execution_count": 9,
      "outputs": [
        {
          "output_type": "stream",
          "name": "stdout",
          "text": [
            "ASCII Art (Orientation: Up):\n",
            "│   │   └── 4\n",
            "│       ├── 5\n",
            "│   └── 2\n",
            "    ├── 3\n",
            "└── 1\n",
            "\n",
            "ASCII Art (Orientation: Down):\n",
            "└── 1\n",
            "    ├── 3\n",
            "│   └── 2\n",
            "│       ├── 5\n",
            "│   │   └── 4\n",
            "\n",
            "ASCII Art (Orientation: Left):\n",
            "  └── 1\n",
            "        ├── 3\n",
            "    │   └── 2\n",
            "      │       ├── 5\n",
            "      │   │   └── 4\n",
            "\n",
            "ASCII Art (Orientation: Right):\n",
            "└── 1  \n",
            "    ├── 3    \n",
            "│   └── 2    \n",
            "│       ├── 5      \n",
            "│   │   └── 4      \n"
          ]
        }
      ]
    }
  ]
}