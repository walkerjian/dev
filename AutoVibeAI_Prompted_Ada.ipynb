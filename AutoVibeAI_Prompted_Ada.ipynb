{
  "nbformat": 4,
  "nbformat_minor": 0,
  "metadata": {
    "colab": {
      "provenance": [],
      "authorship_tag": "ABX9TyMxlAS/NwCs4/k6+5ooO7iZ",
      "include_colab_link": true
    },
    "kernelspec": {
      "name": "python3",
      "display_name": "Python 3"
    },
    "language_info": {
      "name": "python"
    }
  },
  "cells": [
    {
      "cell_type": "markdown",
      "metadata": {
        "id": "view-in-github",
        "colab_type": "text"
      },
      "source": [
        "<a href=\"https://colab.research.google.com/github/walkerjian/dev/blob/main/AutoVibeAI_Prompted_Ada.ipynb\" target=\"_parent\"><img src=\"https://colab.research.google.com/assets/colab-badge.svg\" alt=\"Open In Colab\"/></a>"
      ]
    },
    {
      "cell_type": "code",
      "execution_count": 25,
      "metadata": {
        "colab": {
          "base_uri": "https://localhost:8080/"
        },
        "id": "XKTJ1VjluF9F",
        "outputId": "91abe69a-1dc1-45df-c489-8170459443b0"
      },
      "outputs": [
        {
          "output_type": "stream",
          "name": "stdout",
          "text": [
            "\r0% [Working]\r            \rHit:1 https://developer.download.nvidia.com/compute/cuda/repos/ubuntu2204/x86_64  InRelease\n",
            "\r0% [Connecting to archive.ubuntu.com (91.189.91.83)] [Waiting for headers] [Wai\r                                                                               \rHit:2 https://cloud.r-project.org/bin/linux/ubuntu jammy-cran40/ InRelease\n",
            "Get:3 http://security.ubuntu.com/ubuntu jammy-security InRelease [110 kB]\n",
            "Hit:4 http://archive.ubuntu.com/ubuntu jammy InRelease\n",
            "Get:5 http://archive.ubuntu.com/ubuntu jammy-updates InRelease [119 kB]\n",
            "Get:6 http://archive.ubuntu.com/ubuntu jammy-backports InRelease [109 kB]\n",
            "Hit:7 https://ppa.launchpadcontent.net/c2d4u.team/c2d4u4.0+/ubuntu jammy InRelease\n",
            "Hit:8 https://ppa.launchpadcontent.net/deadsnakes/ppa/ubuntu jammy InRelease\n",
            "Hit:9 https://ppa.launchpadcontent.net/graphics-drivers/ppa/ubuntu jammy InRelease\n",
            "Hit:10 https://ppa.launchpadcontent.net/ubuntugis/ppa/ubuntu jammy InRelease\n",
            "Fetched 338 kB in 3s (134 kB/s)\n",
            "Reading package lists... Done\n",
            "Reading package lists... Done\n",
            "Building dependency tree... Done\n",
            "Reading state information... Done\n",
            "gnat is already the newest version (10.1ubuntu1).\n",
            "0 upgraded, 0 newly installed, 0 to remove and 18 not upgraded.\n"
          ]
        }
      ],
      "source": [
        "!sudo apt-get update\n",
        "!sudo apt-get install -y gnat\n"
      ]
    },
    {
      "cell_type": "code",
      "source": [
        "%%writefile sorting.ads\n",
        "package Sorting is\n",
        "\n",
        "   type List is array (1 .. 8) of Integer;  -- Defining the list type with a fixed size\n",
        "\n",
        "   function Quick_Sort (Input : List) return List;    -- Quick sort function to sort the list\n",
        "\n",
        "   procedure Verify_Safety (Input : List);    -- Function to verify safety standards\n",
        "\n",
        "end Sorting;\n"
      ],
      "metadata": {
        "colab": {
          "base_uri": "https://localhost:8080/"
        },
        "id": "6TQHSXM6x9eW",
        "outputId": "6b1c1cb2-e0ae-487c-df07-299bc8d4c1d9"
      },
      "execution_count": 29,
      "outputs": [
        {
          "output_type": "stream",
          "name": "stdout",
          "text": [
            "Overwriting sorting.ads\n"
          ]
        }
      ]
    },
    {
      "cell_type": "code",
      "source": [
        "%%writefile sorting.adb\n",
        "package body Sorting is\n",
        "\n",
        "   ---------------------------\n",
        "   -- Implementation for Quick_Sort\n",
        "   ---------------------------\n",
        "   function Quick_Sort (Input : List) return List is\n",
        "\n",
        "      function Sort (Arr : List; First, Last : Positive) return List is\n",
        "         Temp_Arr : List := Arr;\n",
        "         Pivot : Integer := Temp_Arr (Last);\n",
        "         I : Positive := First;\n",
        "         J : Positive := Last;\n",
        "      begin\n",
        "         while I < J loop\n",
        "            while Temp_Arr(I) < Pivot and I < Last loop\n",
        "               I := I + 1;\n",
        "            end loop;\n",
        "            while Temp_Arr(J) > Pivot and J > First loop\n",
        "               J := J - 1;\n",
        "            end loop;\n",
        "            if I <= J then\n",
        "               declare\n",
        "                  Temp : Integer := Temp_Arr(I);\n",
        "               begin\n",
        "                  Temp_Arr(I) := Temp_Arr(J);\n",
        "                  Temp_Arr(J) := Temp;\n",
        "                  I := I + 1;\n",
        "                  J := J - 1;\n",
        "               end;\n",
        "            end if;\n",
        "         end loop;\n",
        "\n",
        "         if First < J then\n",
        "            Temp_Arr := Sort(Temp_Arr, First, J);\n",
        "         end if;\n",
        "         if I < Last then\n",
        "            Temp_Arr := Sort(Temp_Arr, I, Last);\n",
        "         end if;\n",
        "\n",
        "         return Temp_Arr;\n",
        "      end Sort;\n",
        "\n",
        "   begin\n",
        "      return Sort(Input, Input'First, Input'Last);\n",
        "   end Quick_Sort;\n",
        "\n",
        "   ---------------------------\n",
        "   -- Implementation for Verify_Safety\n",
        "   ---------------------------\n",
        "   procedure Verify_Safety (Input : List) is\n",
        "      Sorted_List : List := Quick_Sort (Input);\n",
        "      Unsafe : Boolean := False;\n",
        "   begin\n",
        "      for I in Sorted_List'First + 1 .. Sorted_List'Last loop\n",
        "         if Sorted_List (I) < Sorted_List (I - 1) then\n",
        "            Unsafe := True;\n",
        "            exit;\n",
        "         end if;\n",
        "      end loop;\n",
        "\n",
        "      if Unsafe then\n",
        "         raise Program_Error with \"List is not sorted safely\";\n",
        "      end if;\n",
        "   end Verify_Safety;\n",
        "\n",
        "end Sorting;\n"
      ],
      "metadata": {
        "colab": {
          "base_uri": "https://localhost:8080/"
        },
        "id": "SplqlpxoxMY6",
        "outputId": "d0b71f7b-5e44-4c99-e6a7-727f4a058377"
      },
      "execution_count": 26,
      "outputs": [
        {
          "output_type": "stream",
          "name": "stdout",
          "text": [
            "Overwriting sorting.adb\n"
          ]
        }
      ]
    },
    {
      "cell_type": "code",
      "source": [
        "!gnatmake sorting.adb"
      ],
      "metadata": {
        "colab": {
          "base_uri": "https://localhost:8080/"
        },
        "id": "Q6I-BboTxmZV",
        "outputId": "59e6706d-e4e8-4204-a5e6-0bccb9086689"
      },
      "execution_count": 27,
      "outputs": [
        {
          "output_type": "stream",
          "name": "stdout",
          "text": [
            "x86_64-linux-gnu-gcc-10 -c sorting.adb\n"
          ]
        }
      ]
    },
    {
      "cell_type": "code",
      "source": [
        "%%writefile main.adb\n",
        "with Ada.Text_IO;\n",
        "with Sorting;\n",
        "\n",
        "procedure Main is\n",
        "   Input_List : Sorting.List := (5, 3, 8, 4, 2, 7, 6, 1);\n",
        "   Sorted_List : Sorting.List;\n",
        "begin\n",
        "   Sorted_List := Sorting.Quick_Sort (Input_List);\n",
        "   Ada.Text_IO.Put_Line (\"Original List:\");\n",
        "   for I in Input_List'Range loop\n",
        "      Ada.Text_IO.Put (Integer'Image (Input_List (I)) & \" \");\n",
        "   end loop;\n",
        "   Ada.Text_IO.New_Line;\n",
        "\n",
        "   Ada.Text_IO.Put_Line (\"Sorted List:\");\n",
        "   for I in Sorted_List'Range loop\n",
        "      Ada.Text_IO.Put (Integer'Image (Sorted_List (I)) & \" \");\n",
        "   end loop;\n",
        "   Ada.Text_IO.New_Line;\n",
        "\n",
        "   -- Verify Safety\n",
        "   Sorting.Verify_Safety (Sorted_List);\n",
        "   Ada.Text_IO.Put_Line (\"List sorted and verified safely!\");\n",
        "exception\n",
        "   when others =>\n",
        "      Ada.Text_IO.Put_Line (\"Error: List is not sorted safely.\");\n",
        "end Main;\n"
      ],
      "metadata": {
        "colab": {
          "base_uri": "https://localhost:8080/"
        },
        "id": "FadZUfwXxpeV",
        "outputId": "ebbd743f-319b-4e6b-f783-467e801219ca"
      },
      "execution_count": 28,
      "outputs": [
        {
          "output_type": "stream",
          "name": "stdout",
          "text": [
            "Overwriting main.adb\n"
          ]
        }
      ]
    },
    {
      "cell_type": "code",
      "source": [
        "!gnatmake sorting.adb main.adb\n",
        "!./main"
      ],
      "metadata": {
        "colab": {
          "base_uri": "https://localhost:8080/"
        },
        "id": "lznowtfayKgQ",
        "outputId": "f0b4736d-980d-45c4-a052-a2e1725ada4f"
      },
      "execution_count": 30,
      "outputs": [
        {
          "output_type": "stream",
          "name": "stdout",
          "text": [
            "x86_64-linux-gnu-gcc-10 -c sorting.adb\n",
            "x86_64-linux-gnu-gcc-10 -c main.adb\n",
            "x86_64-linux-gnu-gnatbind-10 -x main.ali\n",
            "x86_64-linux-gnu-gnatlink-10 main.ali\n",
            "Original List:\n",
            " 5  3  8  4  2  7  6  1 \n",
            "Sorted List:\n",
            " 1  2  3  4  5  6  7  8 \n",
            "List sorted and verified safely!\n"
          ]
        }
      ]
    }
  ]
}