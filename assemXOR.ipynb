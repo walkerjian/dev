{
  "nbformat": 4,
  "nbformat_minor": 0,
  "metadata": {
    "colab": {
      "provenance": [],
      "authorship_tag": "ABX9TyOA4QEse8AfE6SEnEn141kd",
      "include_colab_link": true
    },
    "kernelspec": {
      "name": "python3",
      "display_name": "Python 3"
    },
    "language_info": {
      "name": "python"
    }
  },
  "cells": [
    {
      "cell_type": "markdown",
      "metadata": {
        "id": "view-in-github",
        "colab_type": "text"
      },
      "source": [
        "<a href=\"https://colab.research.google.com/github/walkerjian/dev/blob/main/assemXOR.ipynb\" target=\"_parent\"><img src=\"https://colab.research.google.com/assets/colab-badge.svg\" alt=\"Open In Colab\"/></a>"
      ]
    },
    {
      "cell_type": "code",
      "execution_count": 1,
      "metadata": {
        "colab": {
          "base_uri": "https://localhost:8080/"
        },
        "id": "yFDUQUwHKl5D",
        "outputId": "7fd036b1-3215-4617-f685-6325e78c27f2"
      },
      "outputs": [
        {
          "output_type": "stream",
          "name": "stdout",
          "text": [
            "Reading package lists... Done\n",
            "Building dependency tree... Done\n",
            "Reading state information... Done\n",
            "The following additional packages will be installed:\n",
            "  binutils-common binutils-x86-64-linux-gnu libbinutils libctf0\n",
            "Suggested packages:\n",
            "  binutils-doc\n",
            "The following NEW packages will be installed:\n",
            "  nasm\n",
            "The following packages will be upgraded:\n",
            "  binutils binutils-common binutils-x86-64-linux-gnu libbinutils libctf0\n",
            "5 upgraded, 1 newly installed, 0 to remove and 14 not upgraded.\n",
            "Need to get 3,692 kB of archives.\n",
            "After this operation, 3,345 kB of additional disk space will be used.\n",
            "Get:1 http://archive.ubuntu.com/ubuntu jammy-updates/main amd64 libctf0 amd64 2.38-4ubuntu2.3 [103 kB]\n",
            "Get:2 http://archive.ubuntu.com/ubuntu jammy-updates/main amd64 binutils-x86-64-linux-gnu amd64 2.38-4ubuntu2.3 [2,327 kB]\n",
            "Get:3 http://archive.ubuntu.com/ubuntu jammy-updates/main amd64 libbinutils amd64 2.38-4ubuntu2.3 [662 kB]\n",
            "Get:4 http://archive.ubuntu.com/ubuntu jammy-updates/main amd64 binutils amd64 2.38-4ubuntu2.3 [3,190 B]\n",
            "Get:5 http://archive.ubuntu.com/ubuntu jammy-updates/main amd64 binutils-common amd64 2.38-4ubuntu2.3 [222 kB]\n",
            "Get:6 http://archive.ubuntu.com/ubuntu jammy/universe amd64 nasm amd64 2.15.05-1 [375 kB]\n",
            "Fetched 3,692 kB in 1s (6,301 kB/s)\n",
            "(Reading database ... 120874 files and directories currently installed.)\n",
            "Preparing to unpack .../0-libctf0_2.38-4ubuntu2.3_amd64.deb ...\n",
            "Unpacking libctf0:amd64 (2.38-4ubuntu2.3) over (2.38-4ubuntu2.2) ...\n",
            "Preparing to unpack .../1-binutils-x86-64-linux-gnu_2.38-4ubuntu2.3_amd64.deb ...\n",
            "Unpacking binutils-x86-64-linux-gnu (2.38-4ubuntu2.3) over (2.38-4ubuntu2.2) ...\n",
            "Preparing to unpack .../2-libbinutils_2.38-4ubuntu2.3_amd64.deb ...\n",
            "Unpacking libbinutils:amd64 (2.38-4ubuntu2.3) over (2.38-4ubuntu2.2) ...\n",
            "Preparing to unpack .../3-binutils_2.38-4ubuntu2.3_amd64.deb ...\n",
            "Unpacking binutils (2.38-4ubuntu2.3) over (2.38-4ubuntu2.2) ...\n",
            "Preparing to unpack .../4-binutils-common_2.38-4ubuntu2.3_amd64.deb ...\n",
            "Unpacking binutils-common:amd64 (2.38-4ubuntu2.3) over (2.38-4ubuntu2.2) ...\n",
            "Selecting previously unselected package nasm.\n",
            "Preparing to unpack .../5-nasm_2.15.05-1_amd64.deb ...\n",
            "Unpacking nasm (2.15.05-1) ...\n",
            "Setting up binutils-common:amd64 (2.38-4ubuntu2.3) ...\n",
            "Setting up nasm (2.15.05-1) ...\n",
            "Setting up libbinutils:amd64 (2.38-4ubuntu2.3) ...\n",
            "Setting up libctf0:amd64 (2.38-4ubuntu2.3) ...\n",
            "Setting up binutils-x86-64-linux-gnu (2.38-4ubuntu2.3) ...\n",
            "Setting up binutils (2.38-4ubuntu2.3) ...\n",
            "Processing triggers for libc-bin (2.35-0ubuntu3.1) ...\n",
            "/sbin/ldconfig.real: /usr/local/lib/libtbb.so.12 is not a symbolic link\n",
            "\n",
            "/sbin/ldconfig.real: /usr/local/lib/libtbbbind_2_0.so.3 is not a symbolic link\n",
            "\n",
            "/sbin/ldconfig.real: /usr/local/lib/libtbbbind.so.3 is not a symbolic link\n",
            "\n",
            "/sbin/ldconfig.real: /usr/local/lib/libtbbmalloc_proxy.so.2 is not a symbolic link\n",
            "\n",
            "/sbin/ldconfig.real: /usr/local/lib/libtbbbind_2_5.so.3 is not a symbolic link\n",
            "\n",
            "/sbin/ldconfig.real: /usr/local/lib/libtbbmalloc.so.2 is not a symbolic link\n",
            "\n",
            "Processing triggers for man-db (2.10.2-1) ...\n"
          ]
        }
      ],
      "source": [
        "!apt-get install nasm binutils"
      ]
    },
    {
      "cell_type": "code",
      "source": [
        "%%writefile xor_linked_list.asm\n",
        "section .data\n",
        "    ; Define the nodes\n",
        "    node1 dd 1       ; Data\n",
        "          dd 0       ; Both (XOR of next and prev, initialized to 0)\n",
        "    node2 dd 2\n",
        "          dd 0\n",
        "    ; ... (more nodes as needed)\n",
        "\n",
        "    ; List pointers\n",
        "    head  dd node1\n",
        "    tail  dd node2\n",
        "\n",
        "section .text\n",
        "    ; Procedures for adding and getting nodes would go here\n",
        "    ; For now, let's just write a simple program to link node1 and node2\n",
        "    ; using the XOR trick\n",
        "\n",
        "global _start\n",
        "_start:\n",
        "    ; XOR the addresses of node1 and node2 and store in both fields\n",
        "    ; This is just an illustrative operation, a full implementation would have procedures/functions\n",
        "    ; to manage adding and traversing nodes\n",
        "    mov eax, [head]\n",
        "    xor eax, [tail]\n",
        "    mov [node1+4], eax  ; Update the \"both\" field of node1\n",
        "    mov [node2+4], eax  ; Update the \"both\" field of node2\n",
        "\n",
        "    ; Exit the program\n",
        "    ; (In a real Linux x86 program, you'd use an interrupt to exit)\n",
        "    ; e.g., exit syscall for Linux:\n",
        "    mov eax, 1      ; syscall: sys_exit\n",
        "    int 0x80\n"
      ],
      "metadata": {
        "colab": {
          "base_uri": "https://localhost:8080/"
        },
        "id": "GQChAdHDKsST",
        "outputId": "ba7bf8d9-3500-4497-8e01-6c5c03dd5ef5"
      },
      "execution_count": 2,
      "outputs": [
        {
          "output_type": "stream",
          "name": "stdout",
          "text": [
            "Writing xor_linked_list.asm\n"
          ]
        }
      ]
    },
    {
      "cell_type": "code",
      "source": [
        "!nasm -f elf32 xor_linked_list.asm\n",
        "!ld -m elf_i386 -o xor_linked_list xor_linked_list.o"
      ],
      "metadata": {
        "id": "8m7P4bD0K_fk"
      },
      "execution_count": 3,
      "outputs": []
    },
    {
      "cell_type": "code",
      "source": [
        "!./xor_linked_list"
      ],
      "metadata": {
        "id": "CRtTowd5LHi1"
      },
      "execution_count": 4,
      "outputs": []
    },
    {
      "cell_type": "code",
      "source": [
        "!apt-get install gdb"
      ],
      "metadata": {
        "colab": {
          "base_uri": "https://localhost:8080/"
        },
        "id": "XuhOsXS7LO6G",
        "outputId": "266edbc8-4b7e-4d69-9470-450c8e1af323"
      },
      "execution_count": 5,
      "outputs": [
        {
          "output_type": "stream",
          "name": "stdout",
          "text": [
            "Reading package lists... Done\n",
            "Building dependency tree... Done\n",
            "Reading state information... Done\n",
            "The following additional packages will be installed:\n",
            "  libbabeltrace1 libc6-dbg libdebuginfod-common libdebuginfod1 libipt2 libsource-highlight-common\n",
            "  libsource-highlight4v5\n",
            "Suggested packages:\n",
            "  gdb-doc gdbserver\n",
            "The following NEW packages will be installed:\n",
            "  gdb libbabeltrace1 libc6-dbg libdebuginfod-common libdebuginfod1 libipt2\n",
            "  libsource-highlight-common libsource-highlight4v5\n",
            "0 upgraded, 8 newly installed, 0 to remove and 14 not upgraded.\n",
            "Need to get 18.3 MB of archives.\n",
            "After this operation, 32.0 MB of additional disk space will be used.\n",
            "Get:1 http://archive.ubuntu.com/ubuntu jammy/main amd64 libdebuginfod-common all 0.186-1build1 [7,878 B]\n",
            "Get:2 http://archive.ubuntu.com/ubuntu jammy/main amd64 libbabeltrace1 amd64 1.5.8-2build1 [160 kB]\n",
            "Get:3 http://archive.ubuntu.com/ubuntu jammy/main amd64 libdebuginfod1 amd64 0.186-1build1 [12.7 kB]\n",
            "Get:4 http://archive.ubuntu.com/ubuntu jammy/main amd64 libipt2 amd64 2.0.5-1 [46.4 kB]\n",
            "Get:5 http://archive.ubuntu.com/ubuntu jammy/main amd64 libsource-highlight-common all 3.1.9-4.1build2 [64.5 kB]\n",
            "Get:6 http://archive.ubuntu.com/ubuntu jammy/main amd64 libsource-highlight4v5 amd64 3.1.9-4.1build2 [207 kB]\n",
            "Get:7 http://archive.ubuntu.com/ubuntu jammy-updates/main amd64 gdb amd64 12.1-0ubuntu1~22.04 [3,919 kB]\n",
            "Get:8 http://archive.ubuntu.com/ubuntu jammy-updates/main amd64 libc6-dbg amd64 2.35-0ubuntu3.4 [13.9 MB]\n",
            "Fetched 18.3 MB in 1s (25.5 MB/s)\n",
            "Preconfiguring packages ...\n",
            "Selecting previously unselected package libdebuginfod-common.\n",
            "(Reading database ... 120899 files and directories currently installed.)\n",
            "Preparing to unpack .../0-libdebuginfod-common_0.186-1build1_all.deb ...\n",
            "Unpacking libdebuginfod-common (0.186-1build1) ...\n",
            "Selecting previously unselected package libbabeltrace1:amd64.\n",
            "Preparing to unpack .../1-libbabeltrace1_1.5.8-2build1_amd64.deb ...\n",
            "Unpacking libbabeltrace1:amd64 (1.5.8-2build1) ...\n",
            "Selecting previously unselected package libdebuginfod1:amd64.\n",
            "Preparing to unpack .../2-libdebuginfod1_0.186-1build1_amd64.deb ...\n",
            "Unpacking libdebuginfod1:amd64 (0.186-1build1) ...\n",
            "Selecting previously unselected package libipt2.\n",
            "Preparing to unpack .../3-libipt2_2.0.5-1_amd64.deb ...\n",
            "Unpacking libipt2 (2.0.5-1) ...\n",
            "Selecting previously unselected package libsource-highlight-common.\n",
            "Preparing to unpack .../4-libsource-highlight-common_3.1.9-4.1build2_all.deb ...\n",
            "Unpacking libsource-highlight-common (3.1.9-4.1build2) ...\n",
            "Selecting previously unselected package libsource-highlight4v5.\n",
            "Preparing to unpack .../5-libsource-highlight4v5_3.1.9-4.1build2_amd64.deb ...\n",
            "Unpacking libsource-highlight4v5 (3.1.9-4.1build2) ...\n",
            "Selecting previously unselected package gdb.\n",
            "Preparing to unpack .../6-gdb_12.1-0ubuntu1~22.04_amd64.deb ...\n",
            "Unpacking gdb (12.1-0ubuntu1~22.04) ...\n",
            "Selecting previously unselected package libc6-dbg:amd64.\n",
            "Preparing to unpack .../7-libc6-dbg_2.35-0ubuntu3.4_amd64.deb ...\n",
            "Unpacking libc6-dbg:amd64 (2.35-0ubuntu3.4) ...\n",
            "Setting up libdebuginfod-common (0.186-1build1) ...\n",
            "\n",
            "Creating config file /etc/profile.d/debuginfod.sh with new version\n",
            "\n",
            "Creating config file /etc/profile.d/debuginfod.csh with new version\n",
            "Setting up libdebuginfod1:amd64 (0.186-1build1) ...\n",
            "Setting up libsource-highlight-common (3.1.9-4.1build2) ...\n",
            "Setting up libc6-dbg:amd64 (2.35-0ubuntu3.4) ...\n",
            "Setting up libipt2 (2.0.5-1) ...\n",
            "Setting up libbabeltrace1:amd64 (1.5.8-2build1) ...\n",
            "Setting up libsource-highlight4v5 (3.1.9-4.1build2) ...\n",
            "Setting up gdb (12.1-0ubuntu1~22.04) ...\n",
            "Processing triggers for man-db (2.10.2-1) ...\n",
            "Processing triggers for libc-bin (2.35-0ubuntu3.1) ...\n",
            "/sbin/ldconfig.real: /usr/local/lib/libtbb.so.12 is not a symbolic link\n",
            "\n",
            "/sbin/ldconfig.real: /usr/local/lib/libtbbbind_2_0.so.3 is not a symbolic link\n",
            "\n",
            "/sbin/ldconfig.real: /usr/local/lib/libtbbbind.so.3 is not a symbolic link\n",
            "\n",
            "/sbin/ldconfig.real: /usr/local/lib/libtbbmalloc_proxy.so.2 is not a symbolic link\n",
            "\n",
            "/sbin/ldconfig.real: /usr/local/lib/libtbbbind_2_5.so.3 is not a symbolic link\n",
            "\n",
            "/sbin/ldconfig.real: /usr/local/lib/libtbbmalloc.so.2 is not a symbolic link\n",
            "\n"
          ]
        }
      ]
    },
    {
      "cell_type": "code",
      "source": [
        "!nasm -f elf32 -g -F dwarf xor_linked_list.asm\n",
        "!ld -m elf_i386 -o xor_linked_list xor_linked_list.o\n"
      ],
      "metadata": {
        "id": "sycQJnggLlEA"
      },
      "execution_count": 6,
      "outputs": []
    },
    {
      "cell_type": "code",
      "source": [
        "!gdb ./xor_linked_list"
      ],
      "metadata": {
        "colab": {
          "base_uri": "https://localhost:8080/"
        },
        "id": "1Dmw_CjtLp2p",
        "outputId": "ed1fa506-9930-4f4b-f074-1acbd7d3d440"
      },
      "execution_count": 7,
      "outputs": [
        {
          "output_type": "stream",
          "name": "stdout",
          "text": [
            "\u001b[35;1mGNU gdb (Ubuntu 12.1-0ubuntu1~22.04) 12.1\u001b[m\n",
            "Copyright (C) 2022 Free Software Foundation, Inc.\n",
            "License GPLv3+: GNU GPL version 3 or later <http://gnu.org/licenses/gpl.html>\n",
            "This is free software: you are free to change and redistribute it.\n",
            "There is NO WARRANTY, to the extent permitted by law.\n",
            "Type \"show copying\" and \"show warranty\" for details.\n",
            "This GDB was configured as \"x86_64-linux-gnu\".\n",
            "Type \"show configuration\" for configuration details.\n",
            "For bug reporting instructions, please see:\n",
            "<https://www.gnu.org/software/gdb/bugs/>.\n",
            "Find the GDB manual and other documentation resources online at:\n",
            "    <http://www.gnu.org/software/gdb/documentation/>.\n",
            "\n",
            "For help, type \"help\".\n",
            "Type \"apropos word\" to search for commands related to \"word\"...\n",
            "Reading symbols from \u001b[32m./xor_linked_list\u001b[m...\n",
            "\u001b[?2004h(gdb) break _start\n",
            "Breakpoint 1 at \u001b[34m0x8049000\u001b[m: file \u001b[32mxor_linked_list.asm\u001b[m, line 23.\n",
            "\u001b[?2004h(gdb) run\n",
            "Starting program: \u001b[32m/content/xor_linked_list\u001b[m \n",
            "warning: Error disabling address space randomization: Operation not permitted\n",
            "Warning:\n",
            "Cannot insert breakpoint 1.\n",
            "Cannot access memory at address 0x8049000\n",
            "\n",
            "\u001b[?2004h(gdb) stepi\n",
            "Warning:\n",
            "Cannot insert breakpoint 1.\n",
            "Cannot access memory at address 0x8049000\n",
            "\n",
            "Command aborted.\n",
            "\u001b[?2004h(gdb) x/2wx &node1\n",
            "\u001b[34m0x804a000\u001b[m <\u001b[33mnode1\u001b[m>:\t0x00000001\t0x00000000\n",
            "\u001b[?2004h(gdb) continue\n",
            "Continuing.\n",
            "Warning:\n",
            "Cannot insert breakpoint 1.\n",
            "Cannot access memory at address 0x8049000\n",
            "\n",
            "Command aborted.\n",
            "\u001b[?2004h(gdb) quit\n",
            "\u001b[?2004hA debugging session is active.\n",
            "\n",
            "\tInferior 1 [process 2815] will be killed.\n",
            "\n",
            "Quit anyway? (y or n) y\n"
          ]
        }
      ]
    },
    {
      "cell_type": "code",
      "source": [
        "!echo \"break _start\\nrun\\ninfo registers\" | gdb ./xor_linked_list"
      ],
      "metadata": {
        "colab": {
          "base_uri": "https://localhost:8080/"
        },
        "id": "stUIAogVLsz5",
        "outputId": "9de8ab7a-a550-4852-d920-d25fd489b2d4"
      },
      "execution_count": 9,
      "outputs": [
        {
          "output_type": "stream",
          "name": "stdout",
          "text": [
            "\u001b[35;1mGNU gdb (Ubuntu 12.1-0ubuntu1~22.04) 12.1\u001b[m\n",
            "Copyright (C) 2022 Free Software Foundation, Inc.\n",
            "License GPLv3+: GNU GPL version 3 or later <http://gnu.org/licenses/gpl.html>\n",
            "This is free software: you are free to change and redistribute it.\n",
            "There is NO WARRANTY, to the extent permitted by law.\n",
            "Type \"show copying\" and \"show warranty\" for details.\n",
            "This GDB was configured as \"x86_64-linux-gnu\".\n",
            "Type \"show configuration\" for configuration details.\n",
            "For bug reporting instructions, please see:\n",
            "<https://www.gnu.org/software/gdb/bugs/>.\n",
            "Find the GDB manual and other documentation resources online at:\n",
            "    <http://www.gnu.org/software/gdb/documentation/>.\n",
            "\n",
            "For help, type \"help\".\n",
            "Type \"apropos word\" to search for commands related to \"word\"...\n",
            "Reading symbols from \u001b[32m./xor_linked_list\u001b[m...\n",
            "(gdb) Function \"_start\\nrun\\ninfo registers\" not defined.\n",
            "Make breakpoint pending on future shared library load? (y or [n]) [answered N; input not from terminal]\n",
            "(gdb) \n",
            "quit\n"
          ]
        }
      ]
    },
    {
      "cell_type": "code",
      "source": [
        "%%writefile gdb_commands.txt\n",
        "break _start\n",
        "run\n",
        "info registers\n",
        "quit\n"
      ],
      "metadata": {
        "colab": {
          "base_uri": "https://localhost:8080/"
        },
        "id": "OLD386PbL0WC",
        "outputId": "c541fef3-0487-41aa-a7f6-61e668d84b16"
      },
      "execution_count": 10,
      "outputs": [
        {
          "output_type": "stream",
          "name": "stdout",
          "text": [
            "Writing gdb_commands.txt\n"
          ]
        }
      ]
    },
    {
      "cell_type": "code",
      "source": [
        "!gdb -q -x gdb_commands.txt ./xor_linked_list"
      ],
      "metadata": {
        "colab": {
          "base_uri": "https://localhost:8080/"
        },
        "id": "8E7L_ljfNpeJ",
        "outputId": "f88826c9-07c3-4f39-c1a9-16029efd1864"
      },
      "execution_count": 11,
      "outputs": [
        {
          "output_type": "stream",
          "name": "stdout",
          "text": [
            "Reading symbols from \u001b[32m./xor_linked_list\u001b[m...\n",
            "Breakpoint 1 at \u001b[34m0x8049000\u001b[m: file \u001b[32mxor_linked_list.asm\u001b[m, line 23.\n",
            "warning: Error disabling address space randomization: Operation not permitted\n",
            "gdb_commands.txt:2: Error in sourced command file:\n",
            "Warning:\n",
            "Cannot insert breakpoint 1.\n",
            "Cannot access memory at address 0x8049000\n",
            "\n",
            "\u001b[?2004h(gdb) quit\n",
            "\u001b[?2004hA debugging session is active.\n",
            "\n",
            "\tInferior 1 [process 4342] will be killed.\n",
            "\n",
            "Quit anyway? (y or n) y\n"
          ]
        }
      ]
    },
    {
      "cell_type": "code",
      "source": [
        "%%writefile xor_linked_list_interactive.asm\n",
        "; [Insert the assembly code provided above here]\n",
        "section .data\n",
        "    ; Define the nodes\n",
        "    node1 dd 1       ; Data\n",
        "          dd 0       ; Both (XOR of next and prev, initialized to 0)\n",
        "    node2 dd 2\n",
        "          dd 0\n",
        "    ; ... (more nodes as needed)\n",
        "\n",
        "    ; List pointers\n",
        "    head  dd node1\n",
        "    tail  dd node2\n",
        "\n",
        "    ; Messages for output\n",
        "    msg1 db \"Adding to list: \", 0\n",
        "    msg2 db \"Getting from list: \", 0\n",
        "    newline db 10     ; newline character\n",
        "\n",
        "section .text\n",
        "    ; Procedures for adding and getting nodes would go here\n",
        "    ; For simplicity, we'll just output messages and manipulate node1 and node2\n",
        "\n",
        "global _start\n",
        "_start:\n",
        "    ; \"Add\" operation (just a message for this demonstration)\n",
        "    mov eax, 4            ; sys_write syscall number\n",
        "    mov ebx, 1            ; file descriptor (stdout)\n",
        "    mov ecx, msg1         ; message address\n",
        "    mov edx, 16           ; message length\n",
        "    int 0x80              ; syscall\n",
        "\n",
        "    ; \"Get\" operation (just a message for this demonstration)\n",
        "    mov eax, 4\n",
        "    mov ebx, 1\n",
        "    mov ecx, msg2\n",
        "    mov edx, 19\n",
        "    int 0x80\n",
        "\n",
        "    ; Print a newline\n",
        "    mov eax, 4\n",
        "    mov ebx, 1\n",
        "    mov ecx, newline\n",
        "    mov edx, 1\n",
        "    int 0x80\n",
        "\n",
        "    ; Exit the program\n",
        "    mov eax, 1      ; syscall: sys_exit\n",
        "    int 0x80\n"
      ],
      "metadata": {
        "colab": {
          "base_uri": "https://localhost:8080/"
        },
        "id": "Vj3eMltNNrzw",
        "outputId": "0c8252f7-af08-45c2-e84f-7b56d8ef011f"
      },
      "execution_count": 12,
      "outputs": [
        {
          "output_type": "stream",
          "name": "stdout",
          "text": [
            "Writing xor_linked_list_interactive.asm\n"
          ]
        }
      ]
    },
    {
      "cell_type": "code",
      "source": [
        "!nasm -f elf32 xor_linked_list_interactive.asm\n",
        "!ld -m elf_i386 -o xor_linked_list_interactive xor_linked_list_interactive.o\n",
        "!./xor_linked_list_interactive"
      ],
      "metadata": {
        "colab": {
          "base_uri": "https://localhost:8080/"
        },
        "id": "Fl3D4tfDPDdV",
        "outputId": "54e9c2ef-ea1d-44f3-b6ee-c3d0a799c081"
      },
      "execution_count": 13,
      "outputs": [
        {
          "output_type": "stream",
          "name": "stdout",
          "text": [
            "Adding to list: Getting from list: \n"
          ]
        }
      ]
    },
    {
      "cell_type": "code",
      "source": [
        "%%writefile xor_linked_list_2.asm\n",
        "section .data\n",
        "    ; Nodes (initialized to empty for now)\n",
        "    node1 dd 1       ; Data\n",
        "          dd 0       ; Both (XOR of next and prev)\n",
        "    node2 dd 2\n",
        "          dd 0\n",
        "    node3 dd 3\n",
        "          dd 0\n",
        "\n",
        "    ; Messages for output\n",
        "    add_msg db \"Adding value: \", 0\n",
        "    get_msg db \"Getting value: \", 0\n",
        "    newline db 10     ; newline character\n",
        "\n",
        "    ten dd 10\n",
        "\n",
        "section .bss\n",
        "    num_str resb 10\n",
        "\n",
        "section .text\n",
        "\n",
        "; Convert number in EBX to string and store in num_str\n",
        "number_to_string:\n",
        "    mov edi, num_str + 9  ; Start from the end of the buffer\n",
        "    mov byte [edi], 0     ; Null-terminate the string\n",
        "\n",
        "convert_loop:\n",
        "    dec edi\n",
        "    mov eax, ebx          ; Move the value in EBX to EAX\n",
        "    xor edx, edx          ; Clear any previous remainder\n",
        "    div dword [ten]       ; Divide EAX by 10, result in EAX (quotient), remainder in EDX\n",
        "    add dl, '0'           ; Convert remainder to ASCII\n",
        "    mov [edi], dl         ; Store character in buffer\n",
        "\n",
        "    test eax, eax         ; Check if quotient is zero\n",
        "    jnz convert_loop      ; If not, continue loop\n",
        "\n",
        "    mov eax, edi          ; Return pointer to start of string in EAX\n",
        "    ret\n",
        "\n",
        "print_ebx:\n",
        "    ; Print the value in EBX directly (for debugging)\n",
        "    mov eax, 4       ; syscall: sys_write\n",
        "    mov ebx, 1       ; file descriptor: stdout\n",
        "    mov ecx, ebx     ; directly use the value in EBX\n",
        "    mov edx, 4       ; data length\n",
        "    int 0x80         ; interrupt\n",
        "    ret\n",
        "\n",
        "; Function to add a node to the XOR linked list\n",
        "; (simplified version for this demonstration)\n",
        "add_node:\n",
        "    ; Expected input:\n",
        "    ;   EAX = address of the node to add\n",
        "    ;   EBX = value to store in the node\n",
        "\n",
        "    ; Save registers\n",
        "    pusha\n",
        "\n",
        "    ; Convert number in EBX to string\n",
        "    call number_to_string\n",
        "\n",
        "    ; Save the address of the converted string\n",
        "    push eax\n",
        "\n",
        "    ; Print the \"Adding value: \" message\n",
        "    mov eax, 4\n",
        "    mov ebx, 1\n",
        "    mov ecx, add_msg\n",
        "    mov edx, 14\n",
        "    int 0x80\n",
        "\n",
        "    ; Retrieve the address of the converted string\n",
        "    pop ecx\n",
        "\n",
        "    ; Print the number\n",
        "    mov eax, 4\n",
        "    mov ebx, 1\n",
        "    mov edx, 10\n",
        "    int 0x80\n",
        "\n",
        "    ; Print a newline\n",
        "    mov eax, 4\n",
        "    mov ebx, 1\n",
        "    mov ecx, newline\n",
        "    mov edx, 1\n",
        "    int 0x80\n",
        "\n",
        "    ; Restore registers and return\n",
        "    popa\n",
        "    ret\n",
        "\n",
        "; Main program\n",
        "global _start\n",
        "_start:\n",
        "    ; Add the nodes\n",
        "    mov eax, node1\n",
        "    mov ebx, [node1]      ; Load the value from the node into EBX\n",
        "    call print_ebx\n",
        "    call add_node\n",
        "\n",
        "    mov eax, node2\n",
        "    mov ebx, [node2]\n",
        "    call print_ebx\n",
        "    call add_node\n",
        "\n",
        "    mov eax, node3\n",
        "    mov ebx, [node3]\n",
        "    call print_ebx\n",
        "    call add_node\n",
        "\n",
        "    ; Traverse and display the list (simplified)\n",
        "    ; Print the \"Getting value: \" message\n",
        "    mov eax, 4\n",
        "    mov ebx, 1\n",
        "    mov ecx, get_msg\n",
        "    mov edx, 15\n",
        "    int 0x80\n",
        "\n",
        "    ; Print the values (simplified version for demonstration)\n",
        "    mov eax, 4\n",
        "    mov ebx, 1\n",
        "    mov ecx, node1\n",
        "    mov edx, 4\n",
        "    int 0x80\n",
        "\n",
        "    mov eax, 4\n",
        "    mov ebx, 1\n",
        "    mov ecx, node2\n",
        "    mov edx, 4\n",
        "    int 0x80\n",
        "\n",
        "    mov eax, 4\n",
        "    mov ebx, 1\n",
        "    mov ecx, node3\n",
        "    mov edx, 4\n",
        "    int 0x80\n",
        "\n",
        "    ; Exit the program\n",
        "    mov eax, 1      ; syscall: sys_exit\n",
        "    int 0x80"
      ],
      "metadata": {
        "colab": {
          "base_uri": "https://localhost:8080/"
        },
        "id": "yThELsJ-PIFd",
        "outputId": "ca6794fa-ae67-445e-a727-f2b585812ed4"
      },
      "execution_count": 55,
      "outputs": [
        {
          "output_type": "stream",
          "name": "stdout",
          "text": [
            "Overwriting xor_linked_list_2.asm\n"
          ]
        }
      ]
    },
    {
      "cell_type": "code",
      "source": [
        "!nasm -f elf32 xor_linked_list_2.asm\n",
        "!ld -m elf_i386 -o xor_linked_list_2 xor_linked_list_2.o\n",
        "!./xor_linked_list_2\n"
      ],
      "metadata": {
        "colab": {
          "base_uri": "https://localhost:8080/"
        },
        "id": "A_oSYypkPxka",
        "outputId": "6b84296e-eaec-49d0-fd59-463d7e08fa93"
      },
      "execution_count": 56,
      "outputs": [
        {
          "output_type": "stream",
          "name": "stdout",
          "text": [
            "Adding value: 1\u0000\u0000\u0000\u0000\u0000\u0000\u0000\u0000\u0000\n",
            "Adding value: 1\u0000\u0000\u0000\u0000\u0000\u0000\u0000\u0000\u0000\n",
            "Adding value: 1\u0000\u0000\u0000\u0000\u0000\u0000\u0000\u0000\u0000\n",
            "Getting value: \u0001\u0000\u0000\u0000\u0002\u0000\u0000\u0000\u0003\u0000\u0000\u0000"
          ]
        }
      ]
    },
    {
      "cell_type": "code",
      "source": [],
      "metadata": {
        "id": "jdBJZObGP6k0"
      },
      "execution_count": null,
      "outputs": []
    }
  ]
}