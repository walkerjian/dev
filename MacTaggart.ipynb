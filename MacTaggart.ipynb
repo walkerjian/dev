{
  "nbformat": 4,
  "nbformat_minor": 0,
  "metadata": {
    "colab": {
      "provenance": [],
      "authorship_tag": "ABX9TyMYwxzVnWYRp5Re/w6USYL+",
      "include_colab_link": true
    },
    "kernelspec": {
      "name": "python3",
      "display_name": "Python 3"
    },
    "language_info": {
      "name": "python"
    }
  },
  "cells": [
    {
      "cell_type": "markdown",
      "metadata": {
        "id": "view-in-github",
        "colab_type": "text"
      },
      "source": [
        "<a href=\"https://colab.research.google.com/github/walkerjian/dev/blob/main/MacTaggart.ipynb\" target=\"_parent\"><img src=\"https://colab.research.google.com/assets/colab-badge.svg\" alt=\"Open In Colab\"/></a>"
      ]
    },
    {
      "cell_type": "code",
      "source": [
        "!pip install PyPDF2\n",
        "!pip install requests\n"
      ],
      "metadata": {
        "colab": {
          "base_uri": "https://localhost:8080/"
        },
        "id": "b3_dSXgXAfMa",
        "outputId": "179596db-18fb-4ad1-a6c3-efe066dea63d"
      },
      "execution_count": null,
      "outputs": [
        {
          "output_type": "stream",
          "name": "stdout",
          "text": [
            "Requirement already satisfied: PyPDF2 in /usr/local/lib/python3.10/dist-packages (3.0.1)\n",
            "Requirement already satisfied: requests in /usr/local/lib/python3.10/dist-packages (2.27.1)\n",
            "Requirement already satisfied: urllib3<1.27,>=1.21.1 in /usr/local/lib/python3.10/dist-packages (from requests) (1.26.16)\n",
            "Requirement already satisfied: certifi>=2017.4.17 in /usr/local/lib/python3.10/dist-packages (from requests) (2023.5.7)\n",
            "Requirement already satisfied: charset-normalizer~=2.0.0 in /usr/local/lib/python3.10/dist-packages (from requests) (2.0.12)\n",
            "Requirement already satisfied: idna<4,>=2.5 in /usr/local/lib/python3.10/dist-packages (from requests) (3.4)\n"
          ]
        }
      ]
    },
    {
      "cell_type": "code",
      "execution_count": null,
      "metadata": {
        "id": "d0rdreO3HFXx",
        "colab": {
          "base_uri": "https://localhost:8080/",
          "height": 181
        },
        "outputId": "ae0acba7-f545-46bc-9e08-e5574e3074b7"
      },
      "outputs": [
        {
          "output_type": "stream",
          "name": "stderr",
          "text": [
            "usage: ipykernel_launcher.py [-h] [--interactive] path_or_url\n",
            "ipykernel_launcher.py: error: unrecognized arguments: -f\n"
          ]
        },
        {
          "output_type": "error",
          "ename": "SystemExit",
          "evalue": "ignored",
          "traceback": [
            "An exception has occurred, use %tb to see the full traceback.\n",
            "\u001b[0;31mSystemExit\u001b[0m\u001b[0;31m:\u001b[0m 2\n"
          ]
        },
        {
          "output_type": "stream",
          "name": "stderr",
          "text": [
            "/usr/local/lib/python3.10/dist-packages/IPython/core/interactiveshell.py:3561: UserWarning: To exit: use 'exit', 'quit', or Ctrl-D.\n",
            "  warn(\"To exit: use 'exit', 'quit', or Ctrl-D.\", stacklevel=1)\n"
          ]
        }
      ],
      "source": [
        "import os\n",
        "import argparse\n",
        "import PyPDF2\n",
        "import requests\n",
        "import tempfile\n",
        "\"\"\"\n",
        "def download_pdf(url):\n",
        "    response = requests.get(url)\n",
        "    with tempfile.NamedTemporaryFile(delete=False, suffix=\".pdf\") as temp:\n",
        "        temp.write(response.content)\n",
        "        return temp.name\n",
        "\n",
        "def extract_text_from_pdf(pdf_path):\n",
        "    # ... same as before ...\n",
        "\n",
        "def extract_title_from_text(text):\n",
        "    # ... same as before ...\n",
        "\n",
        "def generate_new_name(path, title):\n",
        "    # ... same as before ...\n",
        "\n",
        "def rename_file(original_path, new_name):\n",
        "    # ... same as before ...\n",
        "\"\"\"\n",
        "def process_file(path_or_url, interactive=False):\n",
        "    # If the path is a URL, download the PDF\n",
        "    if path_or_url.startswith(\"http://\") or path_or_url.startswith(\"https://\"):\n",
        "        path_or_url = download_pdf(path_or_url)\n",
        "\n",
        "    # ... same as before ...\n",
        "\n",
        "    def extract_text_from_pdf(pdf_path):\n",
        "      with open(pdf_path, \"rb\") as file:\n",
        "          pdf = PyPDF2.PdfFileReader(file)\n",
        "          text = \"\"\n",
        "          for page_num in range(pdf.getNumPages()):\n",
        "              text += pdf.getPage(page_num).extractText()\n",
        "      return text\n",
        "\n",
        "def extract_title_from_text(text):\n",
        "    lines = text.split(\"\\n\")\n",
        "    return lines[0].strip()\n",
        "\n",
        "def generate_new_name(path, title):\n",
        "    original_name, _ = os.path.splitext(os.path.basename(path))\n",
        "    new_name = \"_\".join([original_name, title.replace(\" \", \"-\")])\n",
        "    return new_name\n",
        "\n",
        "def rename_file(original_path, new_name):\n",
        "    dir_name = os.path.dirname(original_path)\n",
        "    _, ext = os.path.splitext(original_path)\n",
        "    new_path = os.path.join(dir_name, new_name + ext)\n",
        "    os.rename(original_path, new_path)\n",
        "    return new_path\n",
        "\n",
        "def process_file(path, interactive=False):\n",
        "    text = extract_text_from_pdf(path)\n",
        "    title = extract_title_from_text(text)\n",
        "    new_name = generate_new_name(path, title)\n",
        "    if interactive:\n",
        "        print(f\"Suggested file name: {new_name}\")\n",
        "        new_name = input(\"Enter your preferred file name (or press Enter to accept the suggested name): \")\n",
        "    new_path = rename_file(path, new_name)\n",
        "    return new_path\n",
        "\n",
        "\n",
        "def main():\n",
        "    parser = argparse.ArgumentParser(description='Rename a PDF based on its title.')\n",
        "    parser.add_argument('path_or_url', help='The path or URL of the PDF file to rename.')\n",
        "    parser.add_argument('--interactive', '-i', action='store_true', help='Enable interactive mode.')\n",
        "    args = parser.parse_args()\n",
        "    process_file(args.path_or_url, args.interactive)\n",
        "\n",
        "if __name__ == \"__main__\":\n",
        "    main()\n"
      ]
    },
    {
      "cell_type": "code",
      "source": [
        "!python rename_pdf.py \"https://arxiv.org/pdf/2112.12794.pdf\" --interactive\n"
      ],
      "metadata": {
        "colab": {
          "base_uri": "https://localhost:8080/"
        },
        "id": "DSFZhRivAu8w",
        "outputId": "b714e09d-fbdb-4c07-e0d1-e8ce09833ec0"
      },
      "execution_count": null,
      "outputs": [
        {
          "output_type": "stream",
          "name": "stdout",
          "text": [
            "python3: can't open file '/content/rename_pdf.py': [Errno 2] No such file or directory\n"
          ]
        }
      ]
    }
  ]
}