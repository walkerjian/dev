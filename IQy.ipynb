{
  "nbformat": 4,
  "nbformat_minor": 0,
  "metadata": {
    "colab": {
      "provenance": [],
      "authorship_tag": "ABX9TyN4eEQu+mocppAk+SHtoCUz",
      "include_colab_link": true
    },
    "kernelspec": {
      "name": "python3",
      "display_name": "Python 3"
    },
    "language_info": {
      "name": "python"
    }
  },
  "cells": [
    {
      "cell_type": "markdown",
      "metadata": {
        "id": "view-in-github",
        "colab_type": "text"
      },
      "source": [
        "<a href=\"https://colab.research.google.com/github/walkerjian/dev/blob/main/IQy.ipynb\" target=\"_parent\"><img src=\"https://colab.research.google.com/assets/colab-badge.svg\" alt=\"Open In Colab\"/></a>"
      ]
    },
    {
      "cell_type": "code",
      "execution_count": null,
      "metadata": {
        "id": "Gdq7a9ey8ba-"
      },
      "outputs": [],
      "source": [
        "import numpy as np\n",
        "import matplotlib.pyplot as plt\n",
        "\n",
        "def plot_iq_distribution(world_population, iq_min, iq_max):\n",
        "    # Given parameters\n",
        "    mean_iq = 100\n",
        "    std_dev_iq = 15\n",
        "\n",
        "    # Generate IQ scores based on a normal distribution\n",
        "    num_people = np.random.normal(mean_iq, std_dev_iq, world_population)\n",
        "\n",
        "    # Clip the IQ scores to the specified range\n",
        "    num_people = np.clip(num_people, iq_min, iq_max)\n",
        "\n",
        "    # Plotting the histogram\n",
        "    plt.figure(figsize=(10, 6))\n",
        "    plt.hist(num_people, bins=50, range=(iq_min, iq_max), color='skyblue', edgecolor='black', alpha=0.7)\n",
        "    plt.axvline(mean_iq, color='red', linestyle='dashed', linewidth=2, label='Mean IQ')\n",
        "    plt.xlabel('IQ')\n",
        "    plt.ylabel('Number of People')\n",
        "    plt.title('Number of People vs. IQ')\n",
        "    plt.legend()\n",
        "\n",
        "    # Allow the user to input their IQ\n",
        "    user_iq = float(input(\"Enter your IQ: \"))\n",
        "    plt.axvline(user_iq, color='green', linestyle='dashed', linewidth=2, label='Your IQ')\n",
        "\n",
        "    # Calculate the number of people with lower and higher IQ than the user\n",
        "    num_lower_iq = len(num_people[num_people < user_iq])\n",
        "    num_higher_iq = len(num_people[num_people > user_iq])\n",
        "\n",
        "    print(f\"There are {num_lower_iq} people with a lower IQ than yours.\")\n",
        "    print(f\"There are {num_higher_iq} people with a higher IQ than yours.\")\n",
        "\n",
        "    plt.legend()\n",
        "    plt.grid(True)\n",
        "    plt.show()\n",
        "\n",
        "# Set the parameters and call the function\n",
        "world_population = 1000000\n",
        "iq_min = 0\n",
        "iq_max = 200\n",
        "\n",
        "plot_iq_distribution(world_population, iq_min, iq_max)\n"
      ]
    }
  ]
}