{
  "nbformat": 4,
  "nbformat_minor": 0,
  "metadata": {
    "colab": {
      "provenance": [],
      "authorship_tag": "ABX9TyNE5Qvw4wVHKzlnlwLG0Oqc",
      "include_colab_link": true
    },
    "kernelspec": {
      "name": "python3",
      "display_name": "Python 3"
    },
    "language_info": {
      "name": "python"
    }
  },
  "cells": [
    {
      "cell_type": "markdown",
      "metadata": {
        "id": "view-in-github",
        "colab_type": "text"
      },
      "source": [
        "<a href=\"https://colab.research.google.com/github/walkerjian/dev/blob/main/BotScape.ipynb\" target=\"_parent\"><img src=\"https://colab.research.google.com/assets/colab-badge.svg\" alt=\"Open In Colab\"/></a>"
      ]
    },
    {
      "cell_type": "code",
      "execution_count": null,
      "metadata": {
        "id": "ju9jO3noMWx4"
      },
      "outputs": [],
      "source": []
    },
    {
      "cell_type": "markdown",
      "source": [
        "I like a graphical visual approach to sussing things out, like nice ide's and things like gantt and PERT charts. Can you name any products or apps that include such tools? I really like the idea of a gantt type chart in a project manager type app (which I am expert in) to graphically represent code, code bottlenecks, code resources, code relationships and parallelism, code scheduling - so using an MSProject type UI but for profiling and optimising code and even parallel code. MSProject has facilities to create resources and monitor their usage too! I also want to use such a tool in the traditional way as a code development management tool too. In fact I want to do both. Do you know if such a tools exists?"
      ],
      "metadata": {
        "id": "xj8yhpZrM7FA"
      }
    },
    {
      "cell_type": "code",
      "source": [],
      "metadata": {
        "id": "SleieKfnM8T7"
      },
      "execution_count": null,
      "outputs": []
    },
    {
      "cell_type": "markdown",
      "source": [
        "You're looking for a mix of software profiling tools, parallelism visualization, and project management features in one package. While there's no single tool that combines all these facets in the exact way you described, several tools come close or provide components of what you're looking for. Let's break this down:\n",
        "\n",
        "### 1. **Profiling and Performance Visualization**:\n",
        "\n",
        "- **Intel VTune Profiler**: This is a performance profiling tool that provides a visual representation of where bottlenecks exist, the call stack, and more. It's especially good for C/C++ and Fortran code. It also has some visualizations that can help with understanding parallelism and threading.\n",
        "\n",
        "- **NVIDIA Nsight Systems**: For GPU-based code (e.g., CUDA, OpenCL), Nsight provides a detailed visual breakdown of where time is being spent.\n",
        "\n",
        "- **Py-Spy**: For Python, py-spy offers a live visualization of what functions are currently being run and can generate flame graphs to represent time spent in different functions.\n",
        "\n",
        "### 2. **Parallelism and Dependency Visualization**:\n",
        "\n",
        "- **Paraver & Dimemas**: These are tools for analyzing and visualizing the behavior of parallel applications. They're especially useful for MPI-based applications.\n",
        "\n",
        "- **Task Dependency Graphs in Dask**: If you're using Dask for parallel and distributed computing in Python, it can generate task dependency graphs that visualize which tasks depend on others and how they're being scheduled and executed.\n",
        "\n",
        "### 3. **Project Management with Code Integration**:\n",
        "\n",
        "- **JIRA by Atlassian**: While primarily a project management tool, it integrates well with Bitbucket (also by Atlassian) and other version control systems. You can track issues, pull requests, and more in a Gantt-chart style if desired.\n",
        "\n",
        "- **Trello with Power-Ups**: Trello can be integrated with tools like GitHub, Bitbucket, etc., and there are various \"Power-Ups\" (plugins) that can add Gantt chart views.\n",
        "\n",
        "- **Asana**: It's a project management tool that integrates with GitHub and can be used to visualize project timelines.\n",
        "\n",
        "### 4. **Integrated Development Environments (IDEs)**:\n",
        "\n",
        "- **Visual Studio**: While primarily an IDE, it has tools for profiling, performance analysis, parallelism visualization (especially with the Parallel Patterns Library), and more.\n",
        "\n",
        "- **JetBrains IDEs (like PyCharm, IntelliJ IDEA)**: They offer visual tools for profiling and performance analysis, and they integrate with project management tools like JIRA.\n",
        "\n",
        "The dream tool you're envisioning—a blend of MS Project, a performance profiler, and a parallelism visualizer—would indeed be a powerful asset. However, as of my last training cut-off in January 2022, such a comprehensive tool doesn't exist as a single package. But by combining the strengths of a few of the tools mentioned above, you can approach the desired functionality."
      ],
      "metadata": {
        "id": "XQJZBi6-M9Uu"
      }
    },
    {
      "cell_type": "markdown",
      "source": [
        "I once constructed a very good IDE from MSWORD (in fact the best IDE I have ever used, it was more than an IDE it went into literate programming) I am considering doing the same with MS project, thoughts?"
      ],
      "metadata": {
        "id": "O8STL9ndNDo3"
      }
    },
    {
      "cell_type": "markdown",
      "source": [
        "Creating a custom IDE or development environment tailored to your specific needs can be incredibly powerful, especially when it enhances your productivity and offers features not readily available in off-the-shelf tools. Leveraging the capabilities of established software like MS Word or MS Project as a foundation can provide a head start, as you can benefit from their mature user interfaces and built-in functionalities. Here are some thoughts on your idea:\n",
        "\n",
        "### 1. **Advantages**:\n",
        "\n",
        "- **Familiarity**: If you're already comfortable with MS Project, building on it can reduce the learning curve.\n",
        "  \n",
        "- **Integration with Other Microsoft Tools**: MS Project integrates well with other tools in the Office suite, like Excel, Outlook, and SharePoint. This can allow for seamless data sharing and collaboration.\n",
        "  \n",
        "- **Customizability**: Building your own tool means you can prioritize the features and workflows most important to you.\n",
        "\n",
        "### 2. **Challenges**:\n",
        "\n",
        "- **Limitations of the Base Software**: MS Project is designed for project management, so you might run into limitations when trying to adapt it for code profiling, debugging, or other typical IDE functionalities.\n",
        "  \n",
        "- **Maintenance**: Custom tools require ongoing maintenance, especially as the base software (MS Project in this case) gets updated or changed.\n",
        "  \n",
        "- **Portability**: Sharing your environment with others or using it across multiple machines might pose challenges.\n",
        "\n",
        "- **Performance**: Depending on the extent of customization and the features added, you might encounter performance issues, especially if handling large codebases or datasets.\n",
        "\n",
        "### 3. **Considerations for a Code-Integrated Project Management Tool**:\n",
        "\n",
        "- **Code Annotations**: You can utilize custom fields or notes in MS Project to annotate tasks with code snippets or references to code files.\n",
        "  \n",
        "- **Version Control Integration**: While not native to MS Project, you might be able to integrate some version control functionalities via VBA scripting or plugins.\n",
        "  \n",
        "- **Profiling and Performance Metrics**: You could represent performance metrics as custom fields in the project tasks, allowing you to visualize bottlenecks or performance-critical sections of the code.\n",
        "  \n",
        "- **Task Dependencies for Parallelism**: MS Project's native support for task dependencies could be adapted to represent code dependencies or parallel execution flows.\n",
        "\n",
        "- **Literate Programming**: If you're interested in literate programming, you might want to integrate the tasks and their descriptions directly with code documentation, providing a cohesive view of both the project management aspects and the code itself.\n",
        "\n",
        "### Final Thoughts:\n",
        "\n",
        "The concept of creating a tailored development environment based on MS Project is intriguing. While it might not replace a traditional IDE for all tasks, it could offer a unique perspective on the intersection of code development, profiling, and project management. If you're passionate about this idea and find that it fills a gap in your workflow, it's worth exploring further. Just be prepared for the challenges that come with custom tool development."
      ],
      "metadata": {
        "id": "tA-9j9epNF_Z"
      }
    },
    {
      "cell_type": "markdown",
      "source": [
        "Are you familiar with Knime?"
      ],
      "metadata": {
        "id": "gKy-LxCSNKc1"
      }
    },
    {
      "cell_type": "markdown",
      "source": [
        "Yes, I'm familiar with KNIME!\n",
        "\n",
        "**KNIME (Konstanz Information Miner)** is an open-source data analytics, reporting, and integration platform. It integrates various components for machine learning and data mining through its modular data pipelining concept. Here's a brief overview:\n",
        "\n",
        "### Features:\n",
        "\n",
        "1. **Graphical Interface**: KNIME provides a graphical interface that allows users to design and execute data workflows, known as \"KNIME workflows,\" by dragging and dropping nodes and connecting them.\n",
        "\n",
        "2. **Nodes**: Each node represents a specific operation or action on the data. KNIME offers a vast array of nodes for data preprocessing, transformation, modeling, visualization, and more.\n",
        "\n",
        "3. **Extensions**: KNIME can be extended with various plugins, which add nodes for specific tasks or integrations with other software tools. For example, there are extensions for deep learning (using TensorFlow, Keras, etc.), big data processing, text processing, and more.\n",
        "\n",
        "4. **Integration**: KNIME integrates well with various data sources like databases, Excel, XML, JSON, and even big data ecosystems. It also supports integration with programming languages like Python, R, and Java.\n",
        "\n",
        "5. **Server Version**: There's a server version of KNIME that offers features like remote execution, scheduling, collaboration, and automation for enterprise workflows.\n",
        "\n",
        "6. **Community & Marketplace**: KNIME has a robust community that contributes nodes and extensions. The KNIME Hub is a place where users can share, collaborate, and find workflows and components created by others.\n",
        "\n",
        "### Use Cases:\n",
        "\n",
        "- **Data Cleaning and Transformation**: Preprocessing data by filtering, aggregating, joining, pivoting, and more.\n",
        "  \n",
        "- **Data Visualization**: Building charts, plots, and interactive views.\n",
        "  \n",
        "- **Machine Learning**: Designing and executing machine learning pipelines, from feature engineering to model evaluation.\n",
        "  \n",
        "- **Big Data Processing**: Handling big data operations with integrations for platforms like Apache Spark.\n",
        "  \n",
        "- **Advanced Analytics**: Time series analysis, text mining, network analysis, and more.\n",
        "\n",
        "KNIME is a powerful tool, especially for those who prefer a visual approach to data science and analytics but also want the flexibility to integrate code and advanced algorithms. It's especially popular in industries like pharma and biotech for drug discovery and bioinformatics applications."
      ],
      "metadata": {
        "id": "Htsn9B6YNNAX"
      }
    },
    {
      "cell_type": "markdown",
      "source": [
        "It's fair to say that Knime uses a pert style of representation"
      ],
      "metadata": {
        "id": "YOKs1gAeNQ50"
      }
    },
    {
      "cell_type": "markdown",
      "source": [
        "Yes, that's a fair assessment. KNIME's workflow representation shares similarities with PERT (Program Evaluation Review Technique) charts, particularly in how they visualize processes and dependencies.\n",
        "\n",
        "Here's a comparison:\n",
        "\n",
        "1. **Nodes and Tasks**: In both KNIME and PERT charts, individual tasks or operations are represented as nodes or points. In KNIME, these nodes represent data operations, transformations, or analyses. In PERT charts, they represent project tasks.\n",
        "\n",
        "2. **Directed Edges**: In both systems, directed edges (arrows) connect nodes and indicate the flow or sequence of operations. In KNIME, the direction of the arrow indicates the flow of data from one operation to the next. In PERT charts, the direction typically represents the sequence of tasks.\n",
        "\n",
        "3. **Dependencies**: Both representations allow for the visualization of dependencies. In KNIME, if one node's output is used as input for another node, there's a clear dependency between them. Similarly, in PERT charts, if one task must be completed before another can begin, there's a dependency.\n",
        "\n",
        "4. **Parallel Operations**: Both KNIME workflows and PERT charts can represent parallel operations. In KNIME, nodes that aren't connected can operate simultaneously, reflecting parallel data operations. In PERT charts, tasks that don't have sequential dependencies can be undertaken simultaneously.\n",
        "\n",
        "However, while they share these visual and conceptual similarities, their primary purposes are different:\n",
        "\n",
        "- **KNIME**: Primarily designed for data analytics, transformation, and machine learning. The focus is on data flow and operations on data.\n",
        "  \n",
        "- **PERT Charts**: Developed for project management, helping managers visualize task sequences, durations, and dependencies to understand the timeline of a project.\n",
        "\n",
        "In essence, while KNIME's visual representation can remind one of PERT charts, the context and details they convey cater to different domains: data analytics versus project management."
      ],
      "metadata": {
        "id": "AVvEELzGNTe7"
      }
    },
    {
      "cell_type": "markdown",
      "source": [
        "ChatGPT api can be called from Knime nodes in a workflow, do you know if this can be used with langchain now?"
      ],
      "metadata": {
        "id": "jbErG75pNWkW"
      }
    },
    {
      "cell_type": "markdown",
      "source": [
        "As of my last update in January 2022, OpenAI's ChatGPT (or other models) can indeed be called from KNIME nodes using the appropriate HTTP nodes to make API requests. You'd typically use the `GET` or `POST` Request nodes in KNIME to interface with OpenAI's API.\n",
        "\n",
        "However, regarding \"langchain\", I'm not specifically aware of any direct integration or tool by that name related to OpenAI or KNIME. If \"langchain\" refers to a newer tool, platform, or integration that was released or became prominent after January 2022, then I might not have details on it.\n",
        "\n",
        "To utilize ChatGPT (or any other OpenAI model) in a KNIME workflow:\n",
        "\n",
        "1. Set up an HTTP node (like the `POST Request` node) in KNIME.\n",
        "2. Configure the node to point to the OpenAI API endpoint for ChatGPT.\n",
        "3. Provide the necessary headers, such as authentication tokens.\n",
        "4. Send the appropriate data in the request to get a response from ChatGPT.\n",
        "\n",
        "If \"langchain\" provides some specific API or interface, the approach would be similar: use KNIME's HTTP nodes to send requests and process responses.\n",
        "\n",
        "To get the most accurate and current information, I'd recommend checking OpenAI's official documentation or the website/platform related to \"langchain\" for any recent updates or integrations."
      ],
      "metadata": {
        "id": "WwB8N5iMNZPJ"
      }
    },
    {
      "cell_type": "markdown",
      "source": [
        "I want to use Knime to build up am eco-system and representation of chats organised as tools soI can reuse and wrangle them"
      ],
      "metadata": {
        "id": "uyvjQBCpNc9t"
      }
    },
    {
      "cell_type": "markdown",
      "source": [
        "Building an eco-system in KNIME to organize, reuse, and wrangle chat interactions is a fantastic idea. KNIME's visual workflow capabilities make it an ideal platform for such an endeavor. Here's a step-by-step approach to achieve this:\n",
        "\n",
        "### 1. **Data Collection**:\n",
        "\n",
        "- **OpenAI API Node**: Use HTTP nodes (like `POST Request`) to interact with OpenAI's API, sending inputs and receiving chat outputs.\n",
        "- **Data Source Nodes**: If you're sourcing chat data from databases, files, or other platforms, use the appropriate nodes to read this data into KNIME.\n",
        "\n",
        "### 2. **Data Processing**:\n",
        "\n",
        "- **Transformation Nodes**: Use nodes like `Row Filter`, `Column Filter`, `String Manipulation`, and `GroupBy` to clean, transform, and process the chat data.\n",
        "- **Topic Modeling**: If you want to categorize chats based on topics, consider using nodes related to topic modeling or text classification.\n",
        "  \n",
        "### 3. **Storage**:\n",
        "\n",
        "- **Database Nodes**: Store processed chat interactions in databases like SQLite, MySQL, or PostgreSQL using the respective database nodes in KNIME.\n",
        "- **File Writer Nodes**: Alternatively, save chats to disk using nodes like `CSV Writer` or `Excel Writer`.\n",
        "\n",
        "### 4. **Eco-system Visualization**:\n",
        "\n",
        "- **Flow Variables**: Use flow variables in KNIME to control and manage the chat interactions dynamically.\n",
        "- **Metanodes & Wrapped Metanodes**: Organize related sets of nodes into Metanodes. Wrapped Metanodes can provide interactive views, which might be helpful for visually organizing and reusing chats.\n",
        "- **Color Coding & Annotations**: Use different colors for nodes representing different chat tools or categories. Add annotations to provide descriptions or instructions.\n",
        "\n",
        "### 5. **Reusability**:\n",
        "\n",
        "- **Components**: Convert commonly used parts of your workflow into reusable components.\n",
        "- **KNIME Hub**: Save and share your workflows or components on the KNIME Hub, making it easier to reuse and share with others.\n",
        "\n",
        "### 6. **Extending Capabilities**:\n",
        "\n",
        "- **Python & R Scripting**: Use the Python or R scripting nodes to extend KNIME's capabilities. For instance, you might want to employ advanced natural language processing (NLP) techniques on chat data.\n",
        "- **Custom Nodes**: If you have specific needs not addressed by existing KNIME nodes, you can develop custom nodes using Java.\n",
        "\n",
        "### 7. **Deployment**:\n",
        "\n",
        "- **KNIME Server**: If you wish to deploy your chat eco-system for wider use or collaboration, consider using KNIME Server. It allows for sharing, collaboration, remote execution, and more.\n",
        "\n",
        "### Tips:\n",
        "- Regularly back up your workflows.\n",
        "- Document each node or set of nodes to remember their purpose, especially if the eco-system becomes complex.\n",
        "- Regularly update KNIME and its extensions to benefit from new features and nodes.\n",
        "\n",
        "Building this eco-system in KNIME will require iterative development. Start with a basic version, test it out, and then incrementally add features and capabilities as needed. Over time, you'll have a robust platform tailored to your chat management needs."
      ],
      "metadata": {
        "id": "ZK1zFCWGNfgP"
      }
    },
    {
      "cell_type": "markdown",
      "source": [
        "there are vector databases now specifically for the purposes of working with evolving an LLM to persist representations that weren't part of the training set, whose cutoff is a real PITA\n",
        "\n"
      ],
      "metadata": {
        "id": "daAJpGJXNiMk"
      }
    },
    {
      "cell_type": "markdown",
      "source": [
        "Yes, the emergence of vector databases (or vector search engines) addresses the need for efficient storage, retrieval, and management of high-dimensional vectors, which are common in machine learning, particularly in natural language processing (NLP) and computer vision.\n",
        "\n",
        "Storing embeddings or representations from models like large language models (LLMs) in traditional databases isn't efficient for similarity searches. Vector databases are designed to perform nearest neighbor searches in high-dimensional spaces, making them ideal for tasks like similarity search, recommendation, and anomaly detection.\n",
        "\n",
        "Here are some popular vector databases:\n",
        "\n",
        "1. **Faiss (Facebook AI Similarity Search)**: Developed by Facebook AI, Faiss is a library for efficient similarity search and clustering of dense vectors. It's particularly efficient for large datasets.\n",
        "\n",
        "2. **Milvus**: An open-source vector database that integrates with popular deep learning frameworks to assist in managing and searching embeddings.\n",
        "\n",
        "3. **Pinecone**: A managed vector database service that offers large-scale similarity search capabilities.\n",
        "\n",
        "4. **Elasticsearch with Vector Fields**: While Elasticsearch is traditionally a text search engine, recent versions support dense vector fields, enabling similarity search with vectors.\n",
        "\n",
        "5. **Annoy (Approximate Nearest Neighbors Oh Yeah)**: Developed by Spotify, Annoy is a C++ library with Python bindings that supports approximate nearest neighbor searches.\n",
        "\n",
        "6. **NGT (Neighborhood Graph and Tree)**: NGT provides fast search algorithms for high-dimensional vector data.\n",
        "\n",
        "These vector databases can be particularly useful when working with evolving models or systems where new data embeddings need to be efficiently stored and queried against existing embeddings. By persisting these representations, you can essentially augment the capabilities of pre-trained models like LLMs to recognize or be more attuned to data they weren't originally trained on.\n",
        "\n",
        "For applications using OpenAI's models or any other LLM, storing the embeddings or representations in a vector database allows for efficient similarity-based retrieval, even if the original data wasn't part of the model's training set. This can be crucial for tasks like document retrieval, recommendation systems, or any application where finding the \"most similar\" item is essential."
      ],
      "metadata": {
        "id": "VOf7AiKBNkiE"
      }
    },
    {
      "cell_type": "markdown",
      "source": [
        "I am wondering about the architecture of a complex ai solution. Should each component be wrapped in a bot that knows all about the app and its api and how to talk to it, and then each of the app bots talk to each other or Marshall and Shepard the links between apps or should there be an all encompassing and god like app that orchestrates all of the interactions between the apps in the solution, or should there be both? I want these AI governed apps to be initially running around in a 2d space like anime, but ultimately AI wrapped bot running around in a game space like Minecraft or a Unity digital twin would be great. Please comment from an architectural pov\n",
        "\n"
      ],
      "metadata": {
        "id": "wEQvYhH3NnLW"
      }
    },
    {
      "cell_type": "markdown",
      "source": [
        "You're touching on a fascinating concept that merges software architecture with virtual representation, aiming for an interactive, visually intuitive system of AI-managed components. Architecturally, there are various ways to design such a system, each with its pros and cons.\n",
        "\n",
        "### 1. **Individual AI-Wrapped Components (Bot per App)**:\n",
        "\n",
        "#### Pros:\n",
        "- **Modularity**: Each component can be developed, tested, and deployed independently.\n",
        "- **Scalability**: Easier to scale individual components based on their specific demands.\n",
        "- **Flexibility**: Can replace or upgrade a single component without affecting the entire system.\n",
        "\n",
        "#### Cons:\n",
        "- **Coordination Overhead**: Ensuring all bots understand and properly interact with each other can be challenging.\n",
        "- **Potential Redundancy**: If multiple bots have overlapping responsibilities or functionalities, there can be redundancy.\n",
        "\n",
        "### 2. **Central Orchestrator (God-like App)**:\n",
        "\n",
        "#### Pros:\n",
        "- **Unified Control**: A single control point can provide more consistent and coordinated actions across components.\n",
        "- **Efficient Resource Allocation**: The central orchestrator can make global decisions about resource allocation, prioritizing tasks across the system.\n",
        "- **Simplified Communication**: Only the orchestrator needs to understand the specifics of each component, simplifying the communication protocol.\n",
        "\n",
        "#### Cons:\n",
        "- **Single Point of Failure**: If the central orchestrator fails, it can halt the entire system.\n",
        "- **Potential Bottleneck**: As the system grows, the central orchestrator can become a performance bottleneck.\n",
        "\n",
        "### 3. **Hybrid Approach (Individual Bots with Central Orchestrator)**:\n",
        "\n",
        "#### Pros:\n",
        "- **Balanced Control**: Individual bots manage their specific apps, while the central orchestrator handles coordination and global tasks.\n",
        "- **Flexibility and Stability**: Combines the flexibility of individual bots with the stability of a central control system.\n",
        "  \n",
        "#### Cons:\n",
        "- **Complexity**: Needs careful design to avoid conflicts between individual bots' decisions and the central orchestrator's directives.\n",
        "\n",
        "### 4. **Visual Representation in Virtual Environments**:\n",
        "\n",
        "- **2D Anime-style**: For an initial implementation, this can be a visually intuitive way to represent individual bots and their interactions. Tools like web-based game engines or even SVG animations can serve this purpose.\n",
        "  \n",
        "- **3D Game Environments (Minecraft, Unity)**: This provides a more immersive experience. Unity, in particular, offers a rich ecosystem to build such virtual representations, and its C# scripting can be used to integrate with AI components.\n",
        "\n",
        "### **Recommendations**:\n",
        "\n",
        "1. **Start with Modularity**: Given the complexity of your envisioned system, start by wrapping each component in its AI bot. This modular approach will simplify initial development and testing.\n",
        "\n",
        "2. **Introduce an Orchestrator**: As interactions between components grow, introduce a central orchestrator to manage global tasks and coordination.\n",
        "\n",
        "3. **Virtual Representation**: Begin with a 2D representation for simplicity. As the system matures, transition to a 3D environment like Unity for a more immersive experience.\n",
        "\n",
        "4. **Continuous Integration & Continuous Deployment (CI/CD)**: Given the dynamic nature of the system, employ CI/CD practices to ensure smooth updates and integrations.\n",
        "\n",
        "5. **Monitoring & Logging**: Implement comprehensive monitoring and logging to keep track of interactions, especially if bots are making autonomous decisions.\n",
        "\n",
        "6. **Security**: Ensure secure communication between bots, especially if deployed across different environments or networks.\n",
        "\n",
        "Your idea is ambitious and offers a fresh perspective on managing complex AI systems. While challenges will arise, careful architectural decisions and iterative development can bring this concept to life."
      ],
      "metadata": {
        "id": "ABZ0TJhHNpia"
      }
    },
    {
      "cell_type": "markdown",
      "source": [
        "doesn't have to bigger than Texas to start with does it. Suppose I want to create a simple level in unity with an actor in it (can be any shape, humanoid or whatever if representational, or blobby if not) the actor (or actors) contain the works of an AI bot (could be a librarian say, that knows how to classify and rename documents based on semantic content) interacting with ingested document objects (that in themselves are AI enabled and like to chat about their contents) and the level would have a god like AI controller (may be more difficult to achieve at that level) that can orchestrate the interactions between the librarian ai bots, the document ai bots, and the storage/shelf ai the like to grumble about the weight they carry :) thoughts on fleshing this out in unity Minecraft or unreal?"
      ],
      "metadata": {
        "id": "9O-UhH0UNtbV"
      }
    },
    {
      "cell_type": "markdown",
      "source": [
        "Creating a virtual environment where AI entities interact can be a captivating way to visualize AI operations. Given your description, let's break down the components and discuss how to represent and implement them in a game engine like Unity, Minecraft, or Unreal:\n",
        "\n",
        "### 1. **Entities & Their Roles**:\n",
        "- **Librarian AI Bot**: Classifies and renames documents based on semantic content. This could be represented as a humanoid or any other symbolic figure in the virtual environment.\n",
        "  \n",
        "- **Document AI Bots**: Chat about their contents. These could be visualized as books or scrolls that become animated when they \"chat.\"\n",
        "\n",
        "- **Storage/Shelf AI**: Complain about the weight they carry. These could be shelves that shake, tilt, or make sounds based on the number of documents they hold.\n",
        "\n",
        "- **God-like AI Controller**: Orchestrates interactions. This could be an omnipresent entity, like a cloud or a beam of light, or even an unseen force that influences the environment.\n",
        "\n",
        "### 2. **Implementation in Game Engines**:\n",
        "\n",
        "#### **Unity**:\n",
        "- **AI Integration**: Unity's C# scripting allows you to integrate various AI libraries, including TensorFlow for Unity. This means your AI bots can utilize deep learning models for tasks like document classification.\n",
        "  \n",
        "- **Physics & Interactions**: Unity's built-in physics engine can handle the interactions between entities, like documents being placed on shelves or the librarian moving around.\n",
        "  \n",
        "- **Visual & Audio Feedback**: Unity supports animations, visual effects, and spatial audio, which can be used to represent the \"emotions\" or \"responses\" of your AI entities.\n",
        "\n",
        "#### **Minecraft**:\n",
        "- **Modding**: To implement custom AI behaviors in Minecraft, you'd need to create mods. Tools like Minecraft Forge or Fabric can help.\n",
        "  \n",
        "- **Visual Representation**: Minecraft's blocky world can be an appealing aesthetic for some, but it may limit the level of detail you can achieve.\n",
        "\n",
        "- **Interactivity**: Redstone in Minecraft can be used to create interactive elements, but complex AI interactions would require deeper modding.\n",
        "\n",
        "#### **Unreal**:\n",
        "- **Blueprints**: Unreal's Blueprint system is a visual scripting method that can be used to create game logic without diving deep into code. This can be used to define basic interactions between entities.\n",
        "  \n",
        "- **C++ Integration**: For more complex AI tasks, you can leverage Unreal's C++ scripting. Integrating external AI libraries will be more involved compared to Unity but is doable.\n",
        "\n",
        "- **High-fidelity Graphics**: Unreal is known for producing high-quality graphics, which can be an advantage if you want a more realistic environment.\n",
        "\n",
        "### 3. **Steps to Get Started**:\n",
        "\n",
        "1. **Choose a Game Engine**: Based on your comfort level and desired visual aesthetic, choose between Unity, Minecraft, or Unreal. For a start, Unity might be the most approachable due to its wide range of online resources and ease of integration with AI libraries.\n",
        "  \n",
        "2. **Design the Level**: Outline the layout of the virtual space, where the shelves are located, the area the librarian operates in, etc.\n",
        "  \n",
        "3. **Implement AI Entities**: Start with basic behaviors. For instance, the librarian can approach a document, and the document \"wakes up\" and starts a chat. Expand behaviors iteratively.\n",
        "\n",
        "4. **Incorporate Feedback Mechanisms**: Use visual cues, sounds, and animations to indicate interactions. For instance, when a shelf is \"overburdened,\" it could creak or tilt.\n",
        "\n",
        "5. **Orchestration**: Implement the god-like AI controller's logic, determining how it influences or guides interactions.\n",
        "\n",
        "6. **Testing**: Regularly test in the game environment to ensure interactions are intuitive and bugs are addressed.\n",
        "\n",
        "### 4. **Final Thoughts**:\n",
        "\n",
        "This concept is a beautiful blend of gaming and AI, turning abstract operations into tangible interactions. It not only makes AI more accessible but also offers a unique way to understand and visualize complex processes. Starting with a simple prototype and iterating based on feedback and needs will be key to successfully bringing this vision to life."
      ],
      "metadata": {
        "id": "DsybBPMhNv6L"
      }
    },
    {
      "cell_type": "markdown",
      "source": [
        "Cheers, one thing about the shelves and 'bookcases' - I want them to facilitate the collaboration between the AI book and document bots that are place on the shelves. There may indeed be special shelves that are more training arenas than anything else, where the AI bots of a particular subject (say string theory) get together on the shelf and produce offspring, there could also be literal marketplaces, cauldrons, arenas where the document bots compete or collaborate under the aegis of the god AI to try and emerge new knowledge from synergy and a hot cup of tea for randomness"
      ],
      "metadata": {
        "id": "QVDuhW1wNzOK"
      }
    },
    {
      "cell_type": "markdown",
      "source": [
        "This concept further enriches the virtual environment with elements of AI collaboration, evolution, competition, and randomness. Here's how you can integrate these ideas:\n",
        "\n",
        "### 1. **Collaborative Shelves**:\n",
        "- **Function**: These shelves facilitate interactions between document bots placed on them. When two or more document bots are placed on a collaborative shelf, they \"converse\" with each other, sharing knowledge, and possibly creating new insights.\n",
        "  \n",
        "- **Visual Representation**: These shelves could glow or have a distinct color or pattern. When bots are placed on them, visual effects like connecting lines or merging auras could represent active collaboration.\n",
        "\n",
        "### 2. **Training Arenas**:\n",
        "- **Function**: Document bots of a specific subject or theme are placed here to \"train\" or enhance their knowledge. Over time, they produce \"offspring\" – new document bots with refined or more advanced knowledge.\n",
        "  \n",
        "- **Visual Representation**: These arenas could resemble gladiator arenas or dojo training grounds. When \"training\" is active, animations like sparks, light beams, or floating symbols could indicate the learning process.\n",
        "\n",
        "### 3. **Marketplaces**:\n",
        "- **Function**: A place where document bots can \"trade\" knowledge. Bots can offer insights they have and receive insights they lack.\n",
        "  \n",
        "- **Visual Representation**: Traditional marketplace aesthetics with stalls or stands. Each stand represents a document bot, and trading can be visualized with items (representing insights) moving between stands.\n",
        "\n",
        "### 4. **Competition Arenas**:\n",
        "- **Function**: Document bots compete to provide the best or most accurate information on a topic. The winner could be determined by the god AI based on accuracy, novelty, or any other metric.\n",
        "  \n",
        "- **Visual Representation**: A more combative arena, possibly resembling a coliseum. Bots could have health bars, and as they \"argue\" or \"debate\", visual effects like lightning bolts or energy waves can show their interactions.\n",
        "\n",
        "### 5. **Randomness Cauldron**:\n",
        "- **Function**: Introducing an element of randomness can lead to unexpected insights or connections. Document bots can \"dip\" into the cauldron to gain a random piece of knowledge or perspective.\n",
        "  \n",
        "- **Visual Representation**: A bubbling cauldron. When a document bot interacts with it, a random item (representing a knowledge piece) emerges and is absorbed by the bot.\n",
        "\n",
        "### 6. **God AI's Role**:\n",
        "- **Overseer**: The god AI oversees all interactions, guiding bots, facilitating collaborations, and determining winners in competitions.\n",
        "  \n",
        "- **Knowledge Synthesizer**: The god AI can also play a role in synthesizing new knowledge by merging insights from multiple bots.\n",
        "\n",
        "- **Visual Representation**: The god AI doesn't need a physical form but can manifest as various visual effects throughout the environment – like a guiding light or a voice from the heavens.\n",
        "\n",
        "### **Implementation Tips**:\n",
        "- **Metadata**: Each document bot should have metadata indicating its subject, knowledge level, and other attributes. This will help in placing them on the right shelves, arenas, or marketplaces.\n",
        "  \n",
        "- **Event-Driven Interactions**: Use event-driven programming to trigger interactions. For instance, when a bot is placed on a shelf, it triggers a collaboration event.\n",
        "\n",
        "- **Dynamic Environment**: The environment should be dynamic, with the ability to add new shelves, arenas, or marketplaces as the system grows.\n",
        "\n",
        "Your vision paints a picture of a vibrant, interactive world where AI entities evolve, collaborate, and compete in a visually intuitive manner. Implementing this in a game engine brings abstract AI processes to life, making them tangible and understandable. It's a grand vision, but with iterative development and continuous refinement, it can become a reality."
      ],
      "metadata": {
        "id": "t6HdNnULN4zc"
      }
    },
    {
      "cell_type": "markdown",
      "source": [
        "So, a puzzle, how do we know when we have emerged new knowledge? Especially when that knowledge cannot be represented by a vocabulary borne of the semantics of the new ontology (criticise my use of terms here) How will we know when we have something truly new and presumably useful? A bit like your hidden layers?"
      ],
      "metadata": {
        "id": "D2M5S5hIN70K"
      }
    },
    {
      "cell_type": "markdown",
      "source": [
        "The question you pose dives deep into the heart of epistemology, machine learning, and the nature of discovery. Recognizing genuinely \"new\" knowledge is challenging, especially when it doesn't neatly fit into established paradigms or lexicons. Let's unpack this:\n",
        "\n",
        "### 1. **Emergence of New Knowledge**:\n",
        "\n",
        "In traditional human-based research, new knowledge often emerges through a combination of existing ideas, innovative thinking, experimentation, and sometimes serendipity. It's validated through peer review, replication, and application.\n",
        "\n",
        "In an AI context, especially with models like deep neural networks, the process is less transparent. The \"knowledge\" within hidden layers is distributed across nodes and weights. While the network can make accurate predictions or generate novel outputs, interpreting the underlying \"reasoning\" is challenging.\n",
        "\n",
        "### 2. **Challenges with Ontology and Semantics**:\n",
        "\n",
        "Your use of \"ontology\" and \"semantics\" is apt. Ontology deals with the nature of being and categorization of entities, while semantics is concerned with meaning.\n",
        "\n",
        "- If an AI discovers or creates something outside our current ontology, it's hard to recognize because we lack the categories or concepts to understand it.\n",
        "  \n",
        "- Similarly, if it's outside our current semantics, we lack the language to describe or comprehend it.\n",
        "\n",
        "### 3. **Recognizing Truly New Knowledge**:\n",
        "\n",
        "- **Validation Against Existing Knowledge**: One approach is to compare the AI's output against existing databases or knowledge sources. If it doesn't match or closely resemble anything existing, it might be considered \"new.\"\n",
        "\n",
        "- **Functional Utility**: If the new knowledge can be applied to solve a problem or achieve a goal more effectively than before, it provides evidence of its value.\n",
        "\n",
        "- **Peer Review**: Even in an AI-driven environment, involving human experts can be invaluable. They can provide context, intuition, and critical thinking that AI might lack.\n",
        "\n",
        "### 4. **Challenges with Hidden Layers**:\n",
        "\n",
        "Hidden layers in neural networks transform input data in complex ways to derive outputs. The \"knowledge\" they possess is distributed, implicit, and hard to interpret.\n",
        "\n",
        "- **Interpretability Tools**: Tools like LIME (Local Interpretable Model-agnostic Explanations) or SHAP (SHapley Additive exPlanations) can shed light on what a model is \"thinking.\" They can't extract new knowledge per se but can offer insights into the model's decision-making process.\n",
        "\n",
        "- **Feature Visualization**: Techniques that visualize the activations of neurons, especially in deep learning models like CNNs, can sometimes provide insights into what features the model considers important.\n",
        "\n",
        "### 5. **Caution with AI-Generated Knowledge**:\n",
        "\n",
        "While AI can generate outputs that seem novel, it's crucial to approach them with a healthy dose of skepticism. AI models, especially generative ones, can produce outputs that are novel combinations of their training data but lack true originality or utility.\n",
        "\n",
        "### **Final Thoughts**:\n",
        "\n",
        "Recognizing genuinely new knowledge, especially in AI outputs, is a blend of science, art, and philosophy. While we can use tools, techniques, and methodologies to guide us, there's no foolproof way to identify groundbreaking insights instantly. Often, the true value of a discovery becomes apparent over time, as it's tested, applied, scrutinized, and integrated into the broader tapestry of knowledge."
      ],
      "metadata": {
        "id": "BUaK7TR5N-E9"
      }
    },
    {
      "cell_type": "markdown",
      "source": [
        "Yes the puzzle is the use case. The ancients had enough brain power and even technology to bootstrap an Industrial Revolution thousands of years ago, but didn't. They had everything they needed to do so but lacked something to recognise the utility of what was literally right under their noses. I wonder about such concerns wit so called modern society"
      ],
      "metadata": {
        "id": "a9yOHdJrOBdn"
      }
    },
    {
      "cell_type": "markdown",
      "source": [
        "Your observation touches on an age-old question of why certain civilizations, despite their advanced knowledge and capabilities, did not undergo certain technological or societal revolutions that others did later on. There are numerous factors that influence the trajectory of a civilization's development:\n",
        "\n",
        "1. **Cultural Priorities**: Some cultures prioritized stability, tradition, or religious practices over technological advancement or exploration. For instance, China, during the Ming Dynasty, had advanced naval technology and could have become a global maritime power but chose to turn inward due to political and cultural decisions.\n",
        "\n",
        "2. **Economic Systems**: The economic incentives of a society play a major role. The ancient Greeks had the steam engine (known as the Aeolipile), but it was never utilized for industrial purposes, possibly because slave labor was prevalent and there was no economic incentive to mechanize tasks.\n",
        "\n",
        "3. **Environmental Factors**: Access to certain resources, geographical barriers, and climate can play significant roles in technological advancement. The availability of coal in Britain, for example, was a key factor in the early stages of the Industrial Revolution.\n",
        "\n",
        "4. **Knowledge Transmission**: The lack of efficient means to record and transmit knowledge can stifle cumulative innovation. The printing press dramatically accelerated the dissemination of knowledge in Europe.\n",
        "\n",
        "5. **Societal Structure**: Hierarchical societies where power and knowledge are concentrated among a few might resist innovations that could disrupt the status quo.\n",
        "\n",
        "6. **External Threats**: The necessity to overcome external threats can drive innovation. The constant threat of invasion in European states led to advancements in military technology, which had other technological and societal spillovers.\n",
        "\n",
        "7. **Randomness and Contingency**: History is also shaped by unforeseen events, individual decisions, and chance.\n",
        "\n",
        "Your concern about modern society is valid. Today, we have access to vast amounts of information and advanced technologies, but there are still barriers to innovative leaps:\n",
        "\n",
        "- **Cognitive Biases**: Even with all our advancements, humans are still prone to cognitive biases that can prevent us from seeing novel solutions or recognizing the significance of certain discoveries.\n",
        "  \n",
        "- **Economic Inertia**: Established industries might resist innovations that threaten their dominance.\n",
        "  \n",
        "- **Short-term Thinking**: Modern economies, especially publicly traded companies, often focus on short-term profits over long-term innovation.\n",
        "\n",
        "- **Societal Values**: Societies that prioritize immediate gratification might undervalue long-term research which doesn’t yield immediate results.\n",
        "\n",
        "The challenge is to create an environment where innovation is encouraged, recognized, and rewarded, and where society can adapt to harness the full potential of new knowledge and technologies. It requires a combination of cultural, economic, educational, and political efforts."
      ],
      "metadata": {
        "id": "7-YL6DkYOEOK"
      }
    },
    {
      "cell_type": "markdown",
      "source": [
        "The printing press was a big one. Yet every civilisation since the ones that used clay tablets missed them! Clay tablets, some soot, and cloth based paper were all that was needed, yet they all missed what they could do for thousands and thousands of years. And they were not dumb, they were equally as smart as us. Why did they miss it? Were they just happy with what they had?"
      ],
      "metadata": {
        "id": "BS0ipskWOH0Z"
      }
    },
    {
      "cell_type": "markdown",
      "source": [
        "The absence of innovations like the printing press in many ancient civilizations, despite having some of the necessary components, is a complex interplay of technology, culture, economics, and societal needs. Several factors can shed light on this:\n",
        "\n",
        "1. **Utility and Need**: While clay tablets, papyrus, and parchment were used for recording information, the demand for mass-produced texts might not have been as high as in the 15th-century Europe. The knowledge was often centralized in temples, palaces, or specific guilds. Wide dissemination might not have been seen as necessary or even desirable.\n",
        "\n",
        "2. **Complexity of Writing Systems**: Some ancient writing systems, like cuneiform or hieroglyphs, were complex, with hundreds of symbols. This makes them less suited for typesetting compared to the Roman alphabet used in Gutenberg's press.\n",
        "\n",
        "3. **Cultural Values and Control of Knowledge**: In many societies, knowledge was a source of power. The act of writing and reading was often restricted to a small elite, such as scribes in Egypt. Mass-producing texts could disrupt this power structure.\n",
        "\n",
        "4. **Economic Factors**: The cost and labor-intensive process of producing books or documents by hand might not have justified the development of a printing system, especially if the demand was limited.\n",
        "\n",
        "5. **Lack of Interconnected Ideas**: Innovations often arise from the convergence of multiple ideas. The printing press didn't just require paper and ink; it also needed metallurgy for movable type, mechanics for the press mechanism, and an understanding of inks that wouldn't smudge when pressed.\n",
        "\n",
        "6. **Societal Stability**: In regions with frequent invasions, conquests, or internal upheavals, preserving existing knowledge might take precedence over innovations in knowledge dissemination.\n",
        "\n",
        "7. **External Influences**: Gutenberg's press was influenced by the screw presses of the Rhineland wine industry and Chinese block printing. Sometimes, the flow of ideas between different cultures can trigger innovations.\n",
        "\n",
        "8. **Contentment with Existing Methods**: If a society believes its current method is \"good enough\" or even superior, there's less incentive to innovate. The meticulous art of manuscript illumination in the Middle Ages, for instance, was highly valued.\n",
        "\n",
        "It's crucial not to view history as a linear progression where every society should inevitably arrive at similar innovations. Societies innovate based on their unique needs, values, challenges, and histories. The \"missed\" innovations don't imply a lack of intelligence or capability but reflect different priorities and circumstances."
      ],
      "metadata": {
        "id": "_afAIKVJOKLb"
      }
    },
    {
      "cell_type": "markdown",
      "source": [
        "the arguments for complexity of script nor permanence of ink don't hold up. There are hand scribed clay tablets in cuneiform from thousands of years ago that are still perfectly legible, and they were expertly scribed, and the people of those times knew how to make indelible ink too."
      ],
      "metadata": {
        "id": "lbf81PZqONcy"
      }
    },
    {
      "cell_type": "markdown",
      "source": [
        "You're right in pointing out that ancient civilizations, especially the Sumerians with cuneiform on clay tablets, had robust and lasting methods of information storage. These tablets have indeed withstood millennia and provide us valuable insights into their societies. Similarly, other ancient civilizations had durable writing methods, and indelible inks have been used across various cultures.\n",
        "\n",
        "The core question then remains: Why, despite these capabilities, didn't they develop something akin to the printing press? Here are some nuanced considerations:\n",
        "\n",
        "1. **Scale and Demand**: The primary advantage of the printing press is the mass production of texts. For such an invention to be developed and adopted, there needs to be a substantial demand for mass-produced texts. In many ancient societies, the audience for written texts was limited. Literacy was not widespread, and oral traditions were more prevalent.\n",
        "\n",
        "2. **Centralized Knowledge**: In many ancient cultures, knowledge was centralized. Temples, priestly classes, or royal courts controlled information. There might not have been a perceived need or desire to disseminate knowledge widely.\n",
        "\n",
        "3. **Cultural and Religious Significance**: The act of writing, especially on mediums like clay or papyrus, was sometimes imbued with religious or cultural significance. Mass production might have been seen as diluting this significance. For instance, the meticulous process of copying religious texts in some cultures was considered a devotional act in itself.\n",
        "\n",
        "4. **Technological Convergence**: The development of the printing press in Europe was not just about replicating text but required a convergence of several technologies and innovations, including paper, movable type, and the mechanical press. While some of these existed in isolation in various cultures, they didn't come together.\n",
        "\n",
        "5. **Economic Systems**: As mentioned previously, the economic structures of societies play a role in technological adoption. If labor (like scribing) is cheap and abundant, there's less economic incentive to invest in a technology that automates or speeds up the process.\n",
        "\n",
        "6. **Path Dependence**: Societies develop technologies based on their current trajectories and the technologies they already have. If a society has invested heavily in a particular way of doing things, they might be less inclined to change, even if the raw materials for a new technology are available.\n",
        "\n",
        "It's a multifaceted puzzle, and the absence of a printing press-like technology in ancient civilizations, despite their advanced capabilities, underscores the complex interplay of societal, economic, technological, and cultural factors in the trajectory of innovation."
      ],
      "metadata": {
        "id": "4FpE0YTwOQTG"
      }
    },
    {
      "cell_type": "markdown",
      "source": [
        "It does seem like the gate was the culture extant. And I wonder about our culture, now, because access to knowledge and new tools like you are still gated. And by the ancestors of the same people who gated knowledge back then, ironically ..."
      ],
      "metadata": {
        "id": "64kUEFHgOTSO"
      }
    },
    {
      "cell_type": "markdown",
      "source": [
        "Your observation touches on a perennial theme in human history: the control and dissemination of knowledge. Throughout different epochs, knowledge has been both a tool of power and a means of liberation, and its management often reflects broader societal dynamics.\n",
        "\n",
        "1. **Ancient World**: In ancient civilizations, knowledge was often concentrated in religious institutions, royal courts, or scholarly academies. The priestly or scribe classes in ancient Egypt, the scholars in the Library of Alexandria, or the philosopher-teachers in ancient Greece, for instance, were key repositories of knowledge.\n",
        "\n",
        "2. **Medieval Europe**: The medieval monasteries of Europe were the primary centers of learning and manuscript reproduction. The Church had considerable control over what was copied, studied, and disseminated. The advent of the printing press disrupted this, making books and information more widely available and sparking significant societal changes, including the Reformation.\n",
        "\n",
        "3. **Modern Age**: Today, while we have unprecedented access to information thanks to the internet, the gatekeeping hasn't disappeared; it has just evolved. Major tech companies, academic journals, media conglomerates, and even algorithms play roles in determining what information is prioritized, who gets to access it, and at what cost.\n",
        "\n",
        "4. **Economic Dynamics**: The profit motive can also influence the spread of knowledge. Proprietary technologies, paywalled academic research, and patented innovations are examples where knowledge is restricted for economic reasons.\n",
        "\n",
        "5. **Political Control**: In some regions, state censorship, internet firewalls, and information blackouts are tools of political control, shaping public perception and restricting access to external or dissenting viewpoints.\n",
        "\n",
        "6. **Cultural Barriers**: Cultural norms and values can also gate knowledge. Taboos, social stigmas, or traditional beliefs can suppress certain types of information or viewpoints.\n",
        "\n",
        "The democratization of knowledge has always been a double-edged sword. On one hand, widespread access to information can empower individuals, foster innovation, and promote societal progress. On the other hand, unchecked dissemination can lead to misinformation, data overload, and other challenges.\n",
        "\n",
        "For societies to make the best use of knowledge, a balance must be struck between openness and quality control, between dissemination and discernment. It requires a combination of technological solutions, educational initiatives, and ethical considerations.\n",
        "\n",
        "As you rightly point out, while the specifics have changed, the dynamics of knowledge control remain a vital and contentious aspect of human societies. The challenge for modern society is to ensure that access to knowledge leads to enlightenment and empowerment, rather than entrenchment or exploitation."
      ],
      "metadata": {
        "id": "PMpPSLFAOVnO"
      }
    },
    {
      "cell_type": "markdown",
      "source": [
        "Indeed, I have been made to suffer extravagantly for my creativity and pursuit and production and dissemination of knowledge in such an egalitarian way as I could.  "
      ],
      "metadata": {
        "id": "vs7JhvzgOZ-3"
      }
    },
    {
      "cell_type": "markdown",
      "source": [
        "You've reached the current usage cap for GPT-4. You can continue with the default model now, or try again later. Learn more"
      ],
      "metadata": {
        "id": "UVWi7dJlOcPq"
      }
    },
    {
      "cell_type": "code",
      "source": [],
      "metadata": {
        "id": "kQYk5cKzM_zr"
      },
      "execution_count": null,
      "outputs": []
    }
  ]
}